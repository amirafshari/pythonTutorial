{
  "nbformat": 4,
  "nbformat_minor": 0,
  "metadata": {
    "colab": {
      "provenance": [],
      "authorship_tag": "ABX9TyMN6Td9QHyL4Xi2uRwnshZp",
      "include_colab_link": true
    },
    "kernelspec": {
      "name": "python3",
      "display_name": "Python 3"
    },
    "language_info": {
      "name": "python"
    }
  },
  "cells": [
    {
      "cell_type": "markdown",
      "metadata": {
        "id": "view-in-github",
        "colab_type": "text"
      },
      "source": [
        "<a href=\"https://colab.research.google.com/github/amirafshari/pythonTutorial/blob/main/excer_3_sep.ipynb\" target=\"_parent\"><img src=\"https://colab.research.google.com/assets/colab-badge.svg\" alt=\"Open In Colab\"/></a>"
      ]
    },
    {
      "cell_type": "markdown",
      "source": [
        "# Remove Duplicates from Sorted Array\n",
        "\n",
        "\n",
        "\n",
        "Given an integer array nums sorted in non-decreasing order, remove the duplicates in-place such that each unique element appears only once. The relative order of the elements should be kept the same. Then return the number of unique elements in nums.  \n",
        "\n",
        "\n",
        "\n",
        "* Input: nums = [1,1,2]  \n",
        "* Output: 2  "
      ],
      "metadata": {
        "id": "fqpBH9qowWL5"
      }
    },
    {
      "cell_type": "code",
      "source": [
        "nums = [1,1,2]"
      ],
      "metadata": {
        "id": "WPBadE8wwXT_"
      },
      "execution_count": null,
      "outputs": []
    }
  ]
}