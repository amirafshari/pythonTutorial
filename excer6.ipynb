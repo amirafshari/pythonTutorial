{
  "nbformat": 4,
  "nbformat_minor": 0,
  "metadata": {
    "colab": {
      "provenance": [],
      "authorship_tag": "ABX9TyNesff2xI/Jd3nbqhYtw70w",
      "include_colab_link": true
    },
    "kernelspec": {
      "name": "python3",
      "display_name": "Python 3"
    },
    "language_info": {
      "name": "python"
    }
  },
  "cells": [
    {
      "cell_type": "markdown",
      "metadata": {
        "id": "view-in-github",
        "colab_type": "text"
      },
      "source": [
        "<a href=\"https://colab.research.google.com/github/amirafshari/pythonTutorial/blob/main/excer6.ipynb\" target=\"_parent\"><img src=\"https://colab.research.google.com/assets/colab-badge.svg\" alt=\"Open In Colab\"/></a>"
      ]
    },
    {
      "cell_type": "code",
      "execution_count": 11,
      "metadata": {
        "id": "tFuHA-LqgDou"
      },
      "outputs": [],
      "source": [
        "my_input = \"6221-1010-1213-7656\"\n",
        "output = \"6221-****-****-7656\""
      ]
    },
    {
      "cell_type": "code",
      "source": [
        "new_string = ''\n",
        "\n",
        "for i, e in enumerate(my_input):\n",
        "  if i >= 5 and i <= 13 and i != 9:\n",
        "    new_string += '*'\n",
        "  else:\n",
        "    new_string += e"
      ],
      "metadata": {
        "id": "q8juze7fqaPJ"
      },
      "execution_count": 28,
      "outputs": []
    },
    {
      "cell_type": "code",
      "source": [
        "new_string"
      ],
      "metadata": {
        "colab": {
          "base_uri": "https://localhost:8080/",
          "height": 35
        },
        "id": "WzEPTVXUq2Hw",
        "outputId": "e7a515a8-8f03-4851-daa4-3aaa7d86101e"
      },
      "execution_count": 29,
      "outputs": [
        {
          "output_type": "execute_result",
          "data": {
            "text/plain": [
              "'6221-****-****-7656'"
            ],
            "application/vnd.google.colaboratory.intrinsic+json": {
              "type": "string"
            }
          },
          "metadata": {},
          "execution_count": 29
        }
      ]
    },
    {
      "cell_type": "code",
      "source": [
        "my_input = \"6221-1010-1213-7656\"\n",
        "\n",
        "for index, element in enumerate(my_input):\n",
        "  if (index >= 5) and (index <= 14):\n",
        "    print(my_input.replace(element, '*'))"
      ],
      "metadata": {
        "colab": {
          "base_uri": "https://localhost:8080/"
        },
        "id": "htFVqDJzlUIM",
        "outputId": "3bdae748-6d12-4255-9145-6d0c01d648a8"
      },
      "execution_count": 23,
      "outputs": [
        {
          "output_type": "stream",
          "name": "stdout",
          "text": [
            "622*-*0*0-*2*3-7656\n",
            "6221-1*1*-1213-7656\n",
            "622*-*0*0-*2*3-7656\n",
            "6221-1*1*-1213-7656\n",
            "6221*1010*1213*7656\n",
            "622*-*0*0-*2*3-7656\n",
            "6**1-1010-1*13-7656\n",
            "622*-*0*0-*2*3-7656\n",
            "6221-1010-121*-7656\n",
            "6221*1010*1213*7656\n"
          ]
        }
      ]
    },
    {
      "cell_type": "code",
      "source": [
        "my_input"
      ],
      "metadata": {
        "colab": {
          "base_uri": "https://localhost:8080/",
          "height": 35
        },
        "id": "uRZnT0i-l71s",
        "outputId": "fcd80470-876c-4899-eb82-ed5198117731"
      },
      "execution_count": 21,
      "outputs": [
        {
          "output_type": "execute_result",
          "data": {
            "text/plain": [
              "'6**************7656'"
            ],
            "application/vnd.google.colaboratory.intrinsic+json": {
              "type": "string"
            }
          },
          "metadata": {},
          "execution_count": 21
        }
      ]
    },
    {
      "cell_type": "code",
      "source": [
        "string = 'setayesh'"
      ],
      "metadata": {
        "id": "eGAJsYP8psAD"
      },
      "execution_count": 30,
      "outputs": []
    },
    {
      "cell_type": "code",
      "source": [
        "'amir'.index(2)"
      ],
      "metadata": {
        "colab": {
          "base_uri": "https://localhost:8080/",
          "height": 166
        },
        "id": "fnu4JMHdr122",
        "outputId": "f52a36d5-4e5f-49bb-e873-baae1551503c"
      },
      "execution_count": 32,
      "outputs": [
        {
          "output_type": "error",
          "ename": "TypeError",
          "evalue": "ignored",
          "traceback": [
            "\u001b[0;31m---------------------------------------------------------------------------\u001b[0m",
            "\u001b[0;31mTypeError\u001b[0m                                 Traceback (most recent call last)",
            "\u001b[0;32m<ipython-input-32-4d0ac220e4a5>\u001b[0m in \u001b[0;36m<cell line: 1>\u001b[0;34m()\u001b[0m\n\u001b[0;32m----> 1\u001b[0;31m \u001b[0;34m'amir'\u001b[0m\u001b[0;34m.\u001b[0m\u001b[0mindex\u001b[0m\u001b[0;34m(\u001b[0m\u001b[0;36m2\u001b[0m\u001b[0;34m)\u001b[0m\u001b[0;34m\u001b[0m\u001b[0;34m\u001b[0m\u001b[0m\n\u001b[0m",
            "\u001b[0;31mTypeError\u001b[0m: must be str, not int"
          ]
        }
      ]
    },
    {
      "cell_type": "code",
      "source": [
        "a = ['a', 'b', 'c']"
      ],
      "metadata": {
        "id": "DqUIFhlLxURB"
      },
      "execution_count": 34,
      "outputs": []
    },
    {
      "cell_type": "code",
      "source": [
        "a[0]"
      ],
      "metadata": {
        "colab": {
          "base_uri": "https://localhost:8080/",
          "height": 35
        },
        "id": "fCZNlnG-xqFZ",
        "outputId": "a93c16ff-4354-4c94-adc3-4fc7e9421ab5"
      },
      "execution_count": 35,
      "outputs": [
        {
          "output_type": "execute_result",
          "data": {
            "text/plain": [
              "'a'"
            ],
            "application/vnd.google.colaboratory.intrinsic+json": {
              "type": "string"
            }
          },
          "metadata": {},
          "execution_count": 35
        }
      ]
    },
    {
      "cell_type": "code",
      "source": [
        "a[1]"
      ],
      "metadata": {
        "colab": {
          "base_uri": "https://localhost:8080/",
          "height": 35
        },
        "id": "f5Ahp1WZx1vt",
        "outputId": "7fc86ac4-8928-4de3-a6ab-16ef01dc1113"
      },
      "execution_count": 36,
      "outputs": [
        {
          "output_type": "execute_result",
          "data": {
            "text/plain": [
              "'b'"
            ],
            "application/vnd.google.colaboratory.intrinsic+json": {
              "type": "string"
            }
          },
          "metadata": {},
          "execution_count": 36
        }
      ]
    },
    {
      "cell_type": "code",
      "source": [
        "'amir'[2]"
      ],
      "metadata": {
        "colab": {
          "base_uri": "https://localhost:8080/",
          "height": 35
        },
        "id": "PUXgdtkTx3OV",
        "outputId": "d2c90c03-2f3d-4cec-9b7b-a9c8ae1674e1"
      },
      "execution_count": 37,
      "outputs": [
        {
          "output_type": "execute_result",
          "data": {
            "text/plain": [
              "'i'"
            ],
            "application/vnd.google.colaboratory.intrinsic+json": {
              "type": "string"
            }
          },
          "metadata": {},
          "execution_count": 37
        }
      ]
    },
    {
      "cell_type": "code",
      "source": [],
      "metadata": {
        "id": "A8VUATtrx5LO"
      },
      "execution_count": null,
      "outputs": []
    }
  ]
}