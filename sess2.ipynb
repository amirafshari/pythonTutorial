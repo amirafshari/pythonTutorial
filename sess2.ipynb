{
  "nbformat": 4,
  "nbformat_minor": 0,
  "metadata": {
    "colab": {
      "provenance": [],
      "authorship_tag": "ABX9TyPJb439w/ZPNRUr3BVJUMYP",
      "include_colab_link": true
    },
    "kernelspec": {
      "name": "python3",
      "display_name": "Python 3"
    },
    "language_info": {
      "name": "python"
    }
  },
  "cells": [
    {
      "cell_type": "markdown",
      "metadata": {
        "id": "view-in-github",
        "colab_type": "text"
      },
      "source": [
        "<a href=\"https://colab.research.google.com/github/amirafshari/pythonTutorial/blob/main/sess2.ipynb\" target=\"_parent\"><img src=\"https://colab.research.google.com/assets/colab-badge.svg\" alt=\"Open In Colab\"/></a>"
      ]
    },
    {
      "cell_type": "markdown",
      "source": [
        "# Complementry"
      ],
      "metadata": {
        "id": "3TlSRolxFfhI"
      }
    },
    {
      "cell_type": "markdown",
      "source": [
        "## Multiple Assignmetns"
      ],
      "metadata": {
        "id": "6R4Ab0D0IJwK"
      }
    },
    {
      "cell_type": "code",
      "source": [
        "a, b, c = 1, 2, 3\n",
        "\n",
        "print('a: ', a, 'b: ', b, 'c: ', c)"
      ],
      "metadata": {
        "colab": {
          "base_uri": "https://localhost:8080/"
        },
        "id": "oWKkX0oYIMEh",
        "outputId": "23d4251a-02ec-4485-8aca-63e11185ea86"
      },
      "execution_count": 4,
      "outputs": [
        {
          "output_type": "stream",
          "name": "stdout",
          "text": [
            "a:  1 b:  2 c:  3\n"
          ]
        }
      ]
    },
    {
      "cell_type": "markdown",
      "source": [
        "## Newline"
      ],
      "metadata": {
        "id": "Xgi1zIKYIbeb"
      }
    },
    {
      "cell_type": "code",
      "source": [
        "print('a: ', a, '\\nb: ', b, '\\nc: ', c)"
      ],
      "metadata": {
        "colab": {
          "base_uri": "https://localhost:8080/"
        },
        "id": "cAsT4QLlIdeT",
        "outputId": "8e871646-4143-44d3-a78e-dca8e1569de1"
      },
      "execution_count": 12,
      "outputs": [
        {
          "output_type": "stream",
          "name": "stdout",
          "text": [
            "a:  1 \n",
            "b:  2 \n",
            "c:  3\n"
          ]
        }
      ]
    },
    {
      "cell_type": "markdown",
      "source": [
        "## Titlize"
      ],
      "metadata": {
        "id": "26JxjJfYJN-t"
      }
    },
    {
      "cell_type": "code",
      "source": [
        "exp = 'i wanna go to berlin next week'\n",
        "print(exp.title())"
      ],
      "metadata": {
        "colab": {
          "base_uri": "https://localhost:8080/"
        },
        "id": "CbIeh063JP-q",
        "outputId": "59beb06d-294e-4f0e-dc03-27f6619f7237"
      },
      "execution_count": 8,
      "outputs": [
        {
          "output_type": "stream",
          "name": "stdout",
          "text": [
            "I Wanna Go To Berlin Next Week\n"
          ]
        }
      ]
    },
    {
      "cell_type": "markdown",
      "source": [
        "## Using variables in strings (f string)"
      ],
      "metadata": {
        "id": "iIyGALVNG2zp"
      }
    },
    {
      "cell_type": "code",
      "source": [
        "name = 'Jin'\n",
        "age = 23\n",
        "print(f'Her name is {name} and she is {age} years old')"
      ],
      "metadata": {
        "colab": {
          "base_uri": "https://localhost:8080/"
        },
        "id": "GnB5yhgrFiof",
        "outputId": "3aa2f9e1-a19a-4f1a-d409-52be9c59a52f"
      },
      "execution_count": 13,
      "outputs": [
        {
          "output_type": "stream",
          "name": "stdout",
          "text": [
            "Her name is Jin and she is 23 years old\n"
          ]
        }
      ]
    },
    {
      "cell_type": "markdown",
      "source": [
        "## Using '' inside a string"
      ],
      "metadata": {
        "id": "48XWewZ2G71K"
      }
    },
    {
      "cell_type": "code",
      "source": [
        "exp = 'Hi! My name is \\'Alex\\' what is your name?'\n",
        "print(exp)"
      ],
      "metadata": {
        "colab": {
          "base_uri": "https://localhost:8080/"
        },
        "id": "QiEmY2S9Hbfn",
        "outputId": "76dddb4c-89bf-478d-e0f0-c1c3911cb479"
      },
      "execution_count": 2,
      "outputs": [
        {
          "output_type": "stream",
          "name": "stdout",
          "text": [
            "Hi! My name is 'Alex' what is your name?\n"
          ]
        }
      ]
    },
    {
      "cell_type": "markdown",
      "source": [
        "## Underscore in Numbers"
      ],
      "metadata": {
        "id": "s9fHBhUWKA-K"
      }
    },
    {
      "cell_type": "code",
      "source": [
        "num1 = 14000000000\n",
        "num2 = 14_000_000_000\n",
        "\n",
        "print(num1)\n",
        "print(num2)"
      ],
      "metadata": {
        "colab": {
          "base_uri": "https://localhost:8080/"
        },
        "id": "O4rIa9NcKBZl",
        "outputId": "da42a2e2-25e3-4bda-a7bd-f8b846145ab1"
      },
      "execution_count": 14,
      "outputs": [
        {
          "output_type": "stream",
          "name": "stdout",
          "text": [
            "14000000000\n",
            "14000000000\n"
          ]
        }
      ]
    },
    {
      "cell_type": "markdown",
      "source": [
        "# Comparison Operations"
      ],
      "metadata": {
        "id": "I8U8PJNqE5AV"
      }
    },
    {
      "cell_type": "code",
      "execution_count": 16,
      "metadata": {
        "colab": {
          "base_uri": "https://localhost:8080/"
        },
        "id": "_Y4I3kt7E06v",
        "outputId": "1d73dfea-2094-4c45-bb80-369d5593bdeb"
      },
      "outputs": [
        {
          "output_type": "stream",
          "name": "stdout",
          "text": [
            "False\n"
          ]
        }
      ],
      "source": [
        "print(2 > 3)"
      ]
    },
    {
      "cell_type": "code",
      "source": [
        "print(5 > 1.5)"
      ],
      "metadata": {
        "colab": {
          "base_uri": "https://localhost:8080/"
        },
        "id": "tqxESE3PL3B9",
        "outputId": "dd2be4ad-bea2-4957-e23b-4228fa733917"
      },
      "execution_count": 17,
      "outputs": [
        {
          "output_type": "stream",
          "name": "stdout",
          "text": [
            "True\n"
          ]
        }
      ]
    },
    {
      "cell_type": "code",
      "source": [
        "print(10 == 10)"
      ],
      "metadata": {
        "colab": {
          "base_uri": "https://localhost:8080/"
        },
        "id": "m_81H8EnL6l6",
        "outputId": "371be1da-4d83-46bf-dfb9-a6abe959688d"
      },
      "execution_count": 18,
      "outputs": [
        {
          "output_type": "stream",
          "name": "stdout",
          "text": [
            "True\n"
          ]
        }
      ]
    },
    {
      "cell_type": "code",
      "source": [
        "print(13 != 5)"
      ],
      "metadata": {
        "colab": {
          "base_uri": "https://localhost:8080/"
        },
        "id": "ruHKexMDL-uo",
        "outputId": "a3126b57-670e-458a-f379-83736f787e63"
      },
      "execution_count": 19,
      "outputs": [
        {
          "output_type": "stream",
          "name": "stdout",
          "text": [
            "True\n"
          ]
        }
      ]
    },
    {
      "cell_type": "code",
      "source": [
        "str1 = 'aksjnfndfjndj'\n",
        "str2 = 'aksjnfndfjndj'\n",
        "str3 = 'aksjmfndfjndj'\n",
        "\n",
        "print(str1 == str2)\n",
        "print(str1 == str3)"
      ],
      "metadata": {
        "colab": {
          "base_uri": "https://localhost:8080/"
        },
        "id": "RtChUsrFMKv_",
        "outputId": "27f868e8-dbf9-4af9-8aec-bcce43027619"
      },
      "execution_count": 20,
      "outputs": [
        {
          "output_type": "stream",
          "name": "stdout",
          "text": [
            "True\n",
            "False\n"
          ]
        }
      ]
    },
    {
      "cell_type": "code",
      "source": [
        "print(14 >= 14)\n",
        "\n",
        "print(14 >= 15)"
      ],
      "metadata": {
        "colab": {
          "base_uri": "https://localhost:8080/"
        },
        "id": "H11CzFjsMk11",
        "outputId": "fc3be708-986c-4e3a-a6ce-8fdaf6384abc"
      },
      "execution_count": 23,
      "outputs": [
        {
          "output_type": "stream",
          "name": "stdout",
          "text": [
            "True\n",
            "False\n"
          ]
        }
      ]
    },
    {
      "cell_type": "code",
      "source": [
        "age = 18\n",
        "age == 18"
      ],
      "metadata": {
        "colab": {
          "base_uri": "https://localhost:8080/"
        },
        "id": "MSF5WkBsOPqE",
        "outputId": "6abd43a3-53fb-411a-f9f3-a5187cabcebc"
      },
      "execution_count": 25,
      "outputs": [
        {
          "output_type": "execute_result",
          "data": {
            "text/plain": [
              "False"
            ]
          },
          "metadata": {},
          "execution_count": 25
        }
      ]
    },
    {
      "cell_type": "code",
      "source": [
        "age == 19"
      ],
      "metadata": {
        "id": "cUSIZ9WtOZ7Y"
      },
      "execution_count": null,
      "outputs": []
    },
    {
      "cell_type": "markdown",
      "source": [
        "# Lists"
      ],
      "metadata": {
        "id": "93KBwmiQRIk6"
      }
    },
    {
      "cell_type": "code",
      "source": [],
      "metadata": {
        "id": "Yhrt4GyUROGr"
      },
      "execution_count": null,
      "outputs": []
    },
    {
      "cell_type": "markdown",
      "source": [
        "# Control Flow"
      ],
      "metadata": {
        "id": "MrI9P8mtE9RG"
      }
    },
    {
      "cell_type": "code",
      "source": [
        "if condition:\n",
        "  expression\n",
        "\n",
        "elif condition:\n",
        "  expression\n",
        "  \n",
        "elif condition:\n",
        "  expression\n",
        ".\n",
        ".\n",
        ".\n",
        "else:\n",
        "  expression"
      ],
      "metadata": {
        "id": "Rp7W1nxLE-1v"
      },
      "execution_count": null,
      "outputs": []
    },
    {
      "cell_type": "code",
      "source": [
        "age = 16\n",
        "\n",
        "if age > 18:\n",
        "  print('You are old enough to use Google Colab!')\n",
        "else:\n",
        "  print('Age restriction!')"
      ],
      "metadata": {
        "colab": {
          "base_uri": "https://localhost:8080/"
        },
        "id": "ulbYp4SfOISW",
        "outputId": "5397cee7-1215-44a0-c276-4b2167214b1b"
      },
      "execution_count": 29,
      "outputs": [
        {
          "output_type": "stream",
          "name": "stdout",
          "text": [
            "Age restriction!\n"
          ]
        }
      ]
    },
    {
      "cell_type": "code",
      "source": [
        "age = 16\n",
        "\n",
        "if age < 4:\n",
        "  price = 0\n",
        "  print(f'Your admission cost is {price}')\n",
        "elif age < 18:\n",
        "  price = 25\n",
        "  print(f'Your admission cost is {price}')\n",
        "elif age < 65:\n",
        "  price = 40\n",
        "  print(f'Your admission cost is {price}')\n",
        "else:\n",
        "  price = 20\n",
        "  print(f'Your admission cost is {price}')"
      ],
      "metadata": {
        "colab": {
          "base_uri": "https://localhost:8080/"
        },
        "id": "X41B2gcrP71k",
        "outputId": "4cc4d299-736e-413e-ab39-c6b9b6146331"
      },
      "execution_count": 30,
      "outputs": [
        {
          "output_type": "stream",
          "name": "stdout",
          "text": [
            "Your admission cost is 25\n"
          ]
        }
      ]
    }
  ]
}