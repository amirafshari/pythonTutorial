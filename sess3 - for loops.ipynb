{
  "nbformat": 4,
  "nbformat_minor": 0,
  "metadata": {
    "colab": {
      "provenance": [],
      "collapsed_sections": [
        "1Gc_IsO0vZiJ"
      ],
      "authorship_tag": "ABX9TyNoFKLzaZDEQj4o9QhyMhr6",
      "include_colab_link": true
    },
    "kernelspec": {
      "name": "python3",
      "display_name": "Python 3"
    },
    "language_info": {
      "name": "python"
    }
  },
  "cells": [
    {
      "cell_type": "markdown",
      "metadata": {
        "id": "view-in-github",
        "colab_type": "text"
      },
      "source": [
        "<a href=\"https://colab.research.google.com/github/amirafshari/pythonTutorial/blob/main/sess3.ipynb\" target=\"_parent\"><img src=\"https://colab.research.google.com/assets/colab-badge.svg\" alt=\"Open In Colab\"/></a>"
      ]
    },
    {
      "cell_type": "markdown",
      "source": [
        "# Queston 1: Find odd and even numbers in the list\n"
      ],
      "metadata": {
        "id": "1Gc_IsO0vZiJ"
      }
    },
    {
      "cell_type": "code",
      "source": [
        "numbers = [13, 9, 10, 0, 1]\n",
        "\n",
        "n0 = numbers[0]\n",
        "n1 = numbers[1]\n",
        "n2 = numbers[2]\n",
        "n3 = numbers[3]\n",
        "n4 = numbers[4]\n",
        "\n",
        "if n0 % 2 == 0:\n",
        "  print(f'{n0} is even')\n",
        "else:\n",
        "  print(f'{n0} is odd!')\n",
        "\n",
        "if n1 % 2 == 0:\n",
        "  print(f'{n1} is even')\n",
        "else:\n",
        "  print(f'{n1} is odd!')\n",
        "\n",
        "\n",
        "if n2 % 2 == 0:\n",
        "  print(f'{n2} is even')\n",
        "else:\n",
        "  print(f'{n2} is odd!')\n",
        "\n",
        "if n3 % 2 == 0:\n",
        "  print(f'{n3} is even')\n",
        "else:\n",
        "  print(f'{n3} is odd!')\n",
        "\n",
        "if n4 % 2 == 0:\n",
        "  print(f'{n4} is even')\n",
        "else:\n",
        "  print(f'{n4} is odd!')"
      ],
      "metadata": {
        "colab": {
          "base_uri": "https://localhost:8080/"
        },
        "id": "YM_S3Iu4zW_0",
        "outputId": "336b863e-762a-4848-edf2-3997135d6645"
      },
      "execution_count": 1,
      "outputs": [
        {
          "output_type": "stream",
          "name": "stdout",
          "text": [
            "13 is odd!\n",
            "9 is odd!\n",
            "10 is even\n",
            "0 is even\n",
            "1 is odd!\n"
          ]
        }
      ]
    },
    {
      "cell_type": "markdown",
      "source": [
        "# For Loops"
      ],
      "metadata": {
        "id": "J-ZzIR-Hzne5"
      }
    },
    {
      "cell_type": "markdown",
      "source": [
        "## Loop over lists\n",
        "\n",
        "\n",
        "**Syntax:**\n",
        "```\n",
        "for element in list:\n",
        "  # do something\n",
        "```\n"
      ],
      "metadata": {
        "id": "AyL3skTO1zSc"
      }
    },
    {
      "cell_type": "code",
      "source": [
        "import random\n",
        "numbers = [random.randint(0,7)*i+1 for i in range(300)]\n",
        "print(numbers)"
      ],
      "metadata": {
        "colab": {
          "base_uri": "https://localhost:8080/"
        },
        "id": "zWjt7dd8w-LS",
        "outputId": "f6496395-fa8a-43bf-edf3-326cde6d9897"
      },
      "execution_count": 2,
      "outputs": [
        {
          "output_type": "stream",
          "name": "stdout",
          "text": [
            "[1, 2, 3, 13, 5, 6, 37, 50, 33, 64, 1, 12, 25, 79, 99, 106, 1, 86, 37, 39, 121, 22, 111, 1, 25, 151, 79, 109, 141, 30, 31, 218, 97, 1, 239, 246, 109, 260, 191, 79, 281, 42, 43, 259, 45, 226, 231, 1, 289, 99, 251, 205, 365, 213, 163, 386, 225, 1, 291, 414, 361, 1, 187, 127, 193, 261, 133, 403, 273, 277, 1, 1, 433, 74, 149, 76, 153, 232, 157, 554, 161, 406, 493, 167, 337, 426, 345, 436, 177, 268, 361, 456, 461, 652, 1, 191, 97, 195, 589, 100, 301, 304, 511, 207, 417, 1, 213, 322, 649, 110, 1, 667, 225, 1, 1, 576, 697, 352, 237, 596, 1, 848, 245, 739, 497, 251, 631, 255, 769, 1, 1, 394, 1, 400, 1, 1, 273, 823, 967, 557, 701, 706, 995, 716, 721, 726, 585, 295, 741, 448, 901, 605, 457, 613, 309, 1, 469, 943, 949, 637, 1, 806, 649, 1, 821, 661, 499, 502, 169, 677, 511, 514, 1033, 1, 871, 351, 881, 709, 1247, 1254, 721, 544, 547, 367, 1289, 371, 559, 1, 377, 568, 951, 765, 769, 194, 583, 1366, 1, 395, 1, 200, 1, 604, 203, 204, 817, 206, 1031, 829, 1249, 1046, 841, 1478, 1061, 427, 857, 431, 1, 1303, 219, 1534, 1321, 1327, 1555, 224, 673, 451, 1131, 1136, 1, 1375, 1611, 1387, 233, 1, 235, 1411, 1653, 238, 1429, 479, 1, 483, 1453, 244, 1, 981, 247, 1483, 1489, 748, 1251, 754, 505, 1013, 763, 1, 1281, 1286, 1, 1296, 1561, 1567, 1573, 1053, 793, 1, 1, 1, 269, 270, 1, 1898, 1, 1093, 549, 1651, 1933, 1663, 1669, 280, 281, 282, 1411, 284, 1, 286, 2003, 1, 577, 579, 871, 1747, 585, 880, 295, 2066, 2073, 2080, 895, 898]\n"
          ]
        }
      ]
    },
    {
      "cell_type": "code",
      "source": [
        "for n in numbers:\n",
        "  if n % 2 == 0:\n",
        "    print(f'{n} is even!')\n",
        "  else:\n",
        "    print(f'{n} is odd!')"
      ],
      "metadata": {
        "colab": {
          "base_uri": "https://localhost:8080/"
        },
        "id": "xLgysu8Bvtx2",
        "outputId": "fd647d75-815b-423b-92b7-ac70c9bc6d16"
      },
      "execution_count": 3,
      "outputs": [
        {
          "output_type": "stream",
          "name": "stdout",
          "text": [
            "1 is odd!\n",
            "2 is even!\n",
            "3 is odd!\n",
            "13 is odd!\n",
            "5 is odd!\n",
            "6 is even!\n",
            "37 is odd!\n",
            "50 is even!\n",
            "33 is odd!\n",
            "64 is even!\n",
            "1 is odd!\n",
            "12 is even!\n",
            "25 is odd!\n",
            "79 is odd!\n",
            "99 is odd!\n",
            "106 is even!\n",
            "1 is odd!\n",
            "86 is even!\n",
            "37 is odd!\n",
            "39 is odd!\n",
            "121 is odd!\n",
            "22 is even!\n",
            "111 is odd!\n",
            "1 is odd!\n",
            "25 is odd!\n",
            "151 is odd!\n",
            "79 is odd!\n",
            "109 is odd!\n",
            "141 is odd!\n",
            "30 is even!\n",
            "31 is odd!\n",
            "218 is even!\n",
            "97 is odd!\n",
            "1 is odd!\n",
            "239 is odd!\n",
            "246 is even!\n",
            "109 is odd!\n",
            "260 is even!\n",
            "191 is odd!\n",
            "79 is odd!\n",
            "281 is odd!\n",
            "42 is even!\n",
            "43 is odd!\n",
            "259 is odd!\n",
            "45 is odd!\n",
            "226 is even!\n",
            "231 is odd!\n",
            "1 is odd!\n",
            "289 is odd!\n",
            "99 is odd!\n",
            "251 is odd!\n",
            "205 is odd!\n",
            "365 is odd!\n",
            "213 is odd!\n",
            "163 is odd!\n",
            "386 is even!\n",
            "225 is odd!\n",
            "1 is odd!\n",
            "291 is odd!\n",
            "414 is even!\n",
            "361 is odd!\n",
            "1 is odd!\n",
            "187 is odd!\n",
            "127 is odd!\n",
            "193 is odd!\n",
            "261 is odd!\n",
            "133 is odd!\n",
            "403 is odd!\n",
            "273 is odd!\n",
            "277 is odd!\n",
            "1 is odd!\n",
            "1 is odd!\n",
            "433 is odd!\n",
            "74 is even!\n",
            "149 is odd!\n",
            "76 is even!\n",
            "153 is odd!\n",
            "232 is even!\n",
            "157 is odd!\n",
            "554 is even!\n",
            "161 is odd!\n",
            "406 is even!\n",
            "493 is odd!\n",
            "167 is odd!\n",
            "337 is odd!\n",
            "426 is even!\n",
            "345 is odd!\n",
            "436 is even!\n",
            "177 is odd!\n",
            "268 is even!\n",
            "361 is odd!\n",
            "456 is even!\n",
            "461 is odd!\n",
            "652 is even!\n",
            "1 is odd!\n",
            "191 is odd!\n",
            "97 is odd!\n",
            "195 is odd!\n",
            "589 is odd!\n",
            "100 is even!\n",
            "301 is odd!\n",
            "304 is even!\n",
            "511 is odd!\n",
            "207 is odd!\n",
            "417 is odd!\n",
            "1 is odd!\n",
            "213 is odd!\n",
            "322 is even!\n",
            "649 is odd!\n",
            "110 is even!\n",
            "1 is odd!\n",
            "667 is odd!\n",
            "225 is odd!\n",
            "1 is odd!\n",
            "1 is odd!\n",
            "576 is even!\n",
            "697 is odd!\n",
            "352 is even!\n",
            "237 is odd!\n",
            "596 is even!\n",
            "1 is odd!\n",
            "848 is even!\n",
            "245 is odd!\n",
            "739 is odd!\n",
            "497 is odd!\n",
            "251 is odd!\n",
            "631 is odd!\n",
            "255 is odd!\n",
            "769 is odd!\n",
            "1 is odd!\n",
            "1 is odd!\n",
            "394 is even!\n",
            "1 is odd!\n",
            "400 is even!\n",
            "1 is odd!\n",
            "1 is odd!\n",
            "273 is odd!\n",
            "823 is odd!\n",
            "967 is odd!\n",
            "557 is odd!\n",
            "701 is odd!\n",
            "706 is even!\n",
            "995 is odd!\n",
            "716 is even!\n",
            "721 is odd!\n",
            "726 is even!\n",
            "585 is odd!\n",
            "295 is odd!\n",
            "741 is odd!\n",
            "448 is even!\n",
            "901 is odd!\n",
            "605 is odd!\n",
            "457 is odd!\n",
            "613 is odd!\n",
            "309 is odd!\n",
            "1 is odd!\n",
            "469 is odd!\n",
            "943 is odd!\n",
            "949 is odd!\n",
            "637 is odd!\n",
            "1 is odd!\n",
            "806 is even!\n",
            "649 is odd!\n",
            "1 is odd!\n",
            "821 is odd!\n",
            "661 is odd!\n",
            "499 is odd!\n",
            "502 is even!\n",
            "169 is odd!\n",
            "677 is odd!\n",
            "511 is odd!\n",
            "514 is even!\n",
            "1033 is odd!\n",
            "1 is odd!\n",
            "871 is odd!\n",
            "351 is odd!\n",
            "881 is odd!\n",
            "709 is odd!\n",
            "1247 is odd!\n",
            "1254 is even!\n",
            "721 is odd!\n",
            "544 is even!\n",
            "547 is odd!\n",
            "367 is odd!\n",
            "1289 is odd!\n",
            "371 is odd!\n",
            "559 is odd!\n",
            "1 is odd!\n",
            "377 is odd!\n",
            "568 is even!\n",
            "951 is odd!\n",
            "765 is odd!\n",
            "769 is odd!\n",
            "194 is even!\n",
            "583 is odd!\n",
            "1366 is even!\n",
            "1 is odd!\n",
            "395 is odd!\n",
            "1 is odd!\n",
            "200 is even!\n",
            "1 is odd!\n",
            "604 is even!\n",
            "203 is odd!\n",
            "204 is even!\n",
            "817 is odd!\n",
            "206 is even!\n",
            "1031 is odd!\n",
            "829 is odd!\n",
            "1249 is odd!\n",
            "1046 is even!\n",
            "841 is odd!\n",
            "1478 is even!\n",
            "1061 is odd!\n",
            "427 is odd!\n",
            "857 is odd!\n",
            "431 is odd!\n",
            "1 is odd!\n",
            "1303 is odd!\n",
            "219 is odd!\n",
            "1534 is even!\n",
            "1321 is odd!\n",
            "1327 is odd!\n",
            "1555 is odd!\n",
            "224 is even!\n",
            "673 is odd!\n",
            "451 is odd!\n",
            "1131 is odd!\n",
            "1136 is even!\n",
            "1 is odd!\n",
            "1375 is odd!\n",
            "1611 is odd!\n",
            "1387 is odd!\n",
            "233 is odd!\n",
            "1 is odd!\n",
            "235 is odd!\n",
            "1411 is odd!\n",
            "1653 is odd!\n",
            "238 is even!\n",
            "1429 is odd!\n",
            "479 is odd!\n",
            "1 is odd!\n",
            "483 is odd!\n",
            "1453 is odd!\n",
            "244 is even!\n",
            "1 is odd!\n",
            "981 is odd!\n",
            "247 is odd!\n",
            "1483 is odd!\n",
            "1489 is odd!\n",
            "748 is even!\n",
            "1251 is odd!\n",
            "754 is even!\n",
            "505 is odd!\n",
            "1013 is odd!\n",
            "763 is odd!\n",
            "1 is odd!\n",
            "1281 is odd!\n",
            "1286 is even!\n",
            "1 is odd!\n",
            "1296 is even!\n",
            "1561 is odd!\n",
            "1567 is odd!\n",
            "1573 is odd!\n",
            "1053 is odd!\n",
            "793 is odd!\n",
            "1 is odd!\n",
            "1 is odd!\n",
            "1 is odd!\n",
            "269 is odd!\n",
            "270 is even!\n",
            "1 is odd!\n",
            "1898 is even!\n",
            "1 is odd!\n",
            "1093 is odd!\n",
            "549 is odd!\n",
            "1651 is odd!\n",
            "1933 is odd!\n",
            "1663 is odd!\n",
            "1669 is odd!\n",
            "280 is even!\n",
            "281 is odd!\n",
            "282 is even!\n",
            "1411 is odd!\n",
            "284 is even!\n",
            "1 is odd!\n",
            "286 is even!\n",
            "2003 is odd!\n",
            "1 is odd!\n",
            "577 is odd!\n",
            "579 is odd!\n",
            "871 is odd!\n",
            "1747 is odd!\n",
            "585 is odd!\n",
            "880 is even!\n",
            "295 is odd!\n",
            "2066 is even!\n",
            "2073 is odd!\n",
            "2080 is even!\n",
            "895 is odd!\n",
            "898 is even!\n"
          ]
        }
      ]
    },
    {
      "cell_type": "markdown",
      "source": [
        "## Calculate the sum (the hard way!)"
      ],
      "metadata": {
        "id": "v6A71sdyIXfb"
      }
    },
    {
      "cell_type": "code",
      "source": [
        "# We know that we can calculate the sum of a list by using sum(list) function\n",
        "\n",
        "numbers = [1,2,3,4,5,6,7]\n",
        "\n",
        "summ = 0 # flag\n",
        "for n in numbers:\n",
        "  summ += n\n",
        "print(summ == sum(numbers))"
      ],
      "metadata": {
        "colab": {
          "base_uri": "https://localhost:8080/"
        },
        "id": "meCjKsayKZhE",
        "outputId": "b232666e-93ed-4ba8-ba41-0aa521b4d6ac"
      },
      "execution_count": 7,
      "outputs": [
        {
          "output_type": "stream",
          "name": "stdout",
          "text": [
            "True\n"
          ]
        }
      ]
    },
    {
      "cell_type": "markdown",
      "source": [
        "## range()\n",
        "**Syntax:**\n",
        "```\n",
        "for i in range(start, stop, step):\n",
        "  # do something\n",
        "```\n",
        "**Default values:**  \n",
        "\n",
        "\n",
        "*   start: 0\n",
        "*   step: 1\n",
        "\n",
        "\n",
        "\n",
        "\n"
      ],
      "metadata": {
        "id": "j7ac923W12IR"
      }
    },
    {
      "cell_type": "code",
      "source": [
        "for i in range(20):\n",
        "  print(f'{i}: Python is fun!')"
      ],
      "metadata": {
        "colab": {
          "base_uri": "https://localhost:8080/"
        },
        "id": "ab88kYgrGfqL",
        "outputId": "c438db96-85a8-45a8-ac98-4715c77db94b"
      },
      "execution_count": 9,
      "outputs": [
        {
          "output_type": "stream",
          "name": "stdout",
          "text": [
            "0: Python is fun!\n",
            "1: Python is fun!\n",
            "2: Python is fun!\n",
            "3: Python is fun!\n",
            "4: Python is fun!\n",
            "5: Python is fun!\n",
            "6: Python is fun!\n",
            "7: Python is fun!\n",
            "8: Python is fun!\n",
            "9: Python is fun!\n",
            "10: Python is fun!\n",
            "11: Python is fun!\n",
            "12: Python is fun!\n",
            "13: Python is fun!\n",
            "14: Python is fun!\n",
            "15: Python is fun!\n",
            "16: Python is fun!\n",
            "17: Python is fun!\n",
            "18: Python is fun!\n",
            "19: Python is fun!\n"
          ]
        }
      ]
    },
    {
      "cell_type": "code",
      "source": [
        "new_numbers = [] # flag\n",
        "\n",
        "start = 20\n",
        "stop = 100\n",
        "step = 3\n",
        "\n",
        "for i in range(start, stop, step):\n",
        "  new_numbers.append(i)\n",
        "\n",
        "print(new_numbers)"
      ],
      "metadata": {
        "id": "44RpNrZzMJHa",
        "colab": {
          "base_uri": "https://localhost:8080/"
        },
        "outputId": "bfd56481-96ef-489d-a7ec-110546d5bf97"
      },
      "execution_count": 10,
      "outputs": [
        {
          "output_type": "stream",
          "name": "stdout",
          "text": [
            "[20, 23, 26, 29, 32, 35, 38, 41, 44, 47, 50, 53, 56, 59, 62, 65, 68, 71, 74, 77, 80, 83, 86, 89, 92, 95, 98]\n"
          ]
        }
      ]
    },
    {
      "cell_type": "code",
      "source": [],
      "metadata": {
        "id": "gPT40tWUJM0R"
      },
      "execution_count": null,
      "outputs": []
    }
  ]
}
