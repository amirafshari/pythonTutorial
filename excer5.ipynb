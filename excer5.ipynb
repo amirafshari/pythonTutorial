{
  "cells": [
    {
      "cell_type": "markdown",
      "metadata": {
        "id": "view-in-github",
        "colab_type": "text"
      },
      "source": [
        "<a href=\"https://colab.research.google.com/github/amirafshari/pythonTutorial/blob/main/excer5.ipynb\" target=\"_parent\"><img src=\"https://colab.research.google.com/assets/colab-badge.svg\" alt=\"Open In Colab\"/></a>"
      ]
    },
    {
      "cell_type": "markdown",
      "metadata": {
        "id": "OIY2hFc9z3oU"
      },
      "source": [
        "# Guess the random"
      ]
    },
    {
      "cell_type": "code",
      "execution_count": 4,
      "metadata": {
        "id": "eoJvUuCGyvSu"
      },
      "outputs": [],
      "source": [
        "import random"
      ]
    },
    {
      "cell_type": "code",
      "source": [
        "randn = random.randint(0,50)"
      ],
      "metadata": {
        "id": "kC6I0Tsyy2WZ"
      },
      "execution_count": 11,
      "outputs": []
    },
    {
      "cell_type": "code",
      "source": [
        "guess = int(input('Guess the number: '))"
      ],
      "metadata": {
        "colab": {
          "base_uri": "https://localhost:8080/"
        },
        "id": "ulM6spIkzIP6",
        "outputId": "a311c0e1-558c-459e-8daf-1c77cb08e899"
      },
      "execution_count": 8,
      "outputs": [
        {
          "name": "stdout",
          "output_type": "stream",
          "text": [
            "Guess the number: 20\n"
          ]
        }
      ]
    },
    {
      "cell_type": "code",
      "source": [
        "type(guess)"
      ],
      "metadata": {
        "colab": {
          "base_uri": "https://localhost:8080/"
        },
        "id": "UklNIxlBzZlT",
        "outputId": "49fe2325-bc5a-4c5f-9160-6deb3b246329"
      },
      "execution_count": 9,
      "outputs": [
        {
          "output_type": "execute_result",
          "data": {
            "text/plain": [
              "int"
            ]
          },
          "metadata": {},
          "execution_count": 9
        }
      ]
    },
    {
      "cell_type": "code",
      "source": [
        "while guess != randn:\n",
        "  guess = int(input('Guess the number: '))\n",
        "  if guess < randn:\n",
        "    print('x > guess')\n",
        "  else:\n",
        "    print('guess < x')"
      ],
      "metadata": {
        "colab": {
          "base_uri": "https://localhost:8080/",
          "height": 381
        },
        "id": "T-ipW_4zzfGX",
        "outputId": "98adaa33-e44d-43b5-ce6c-35a8cfa7f1c4"
      },
      "execution_count": 12,
      "outputs": [
        {
          "output_type": "error",
          "ename": "KeyboardInterrupt",
          "evalue": "ignored",
          "traceback": [
            "\u001b[0;31m---------------------------------------------------------------------------\u001b[0m",
            "\u001b[0;31mKeyboardInterrupt\u001b[0m                         Traceback (most recent call last)",
            "\u001b[0;32m<ipython-input-12-1faf8133f34d>\u001b[0m in \u001b[0;36m<cell line: 1>\u001b[0;34m()\u001b[0m\n\u001b[1;32m      1\u001b[0m \u001b[0;32mwhile\u001b[0m \u001b[0mguess\u001b[0m \u001b[0;34m!=\u001b[0m \u001b[0mrandn\u001b[0m\u001b[0;34m:\u001b[0m\u001b[0;34m\u001b[0m\u001b[0;34m\u001b[0m\u001b[0m\n\u001b[0;32m----> 2\u001b[0;31m   \u001b[0mguess\u001b[0m \u001b[0;34m=\u001b[0m \u001b[0mint\u001b[0m\u001b[0;34m(\u001b[0m\u001b[0minput\u001b[0m\u001b[0;34m(\u001b[0m\u001b[0;34m'Guess the number: '\u001b[0m\u001b[0;34m)\u001b[0m\u001b[0;34m)\u001b[0m\u001b[0;34m\u001b[0m\u001b[0;34m\u001b[0m\u001b[0m\n\u001b[0m\u001b[1;32m      3\u001b[0m   \u001b[0;32mif\u001b[0m \u001b[0mguess\u001b[0m \u001b[0;34m<\u001b[0m \u001b[0mrandn\u001b[0m\u001b[0;34m:\u001b[0m\u001b[0;34m\u001b[0m\u001b[0;34m\u001b[0m\u001b[0m\n\u001b[1;32m      4\u001b[0m     \u001b[0mprint\u001b[0m\u001b[0;34m(\u001b[0m\u001b[0;34m'x > guess'\u001b[0m\u001b[0;34m)\u001b[0m\u001b[0;34m\u001b[0m\u001b[0;34m\u001b[0m\u001b[0m\n\u001b[1;32m      5\u001b[0m   \u001b[0;32melse\u001b[0m\u001b[0;34m:\u001b[0m\u001b[0;34m\u001b[0m\u001b[0;34m\u001b[0m\u001b[0m\n",
            "\u001b[0;32m/usr/local/lib/python3.10/dist-packages/ipykernel/kernelbase.py\u001b[0m in \u001b[0;36mraw_input\u001b[0;34m(self, prompt)\u001b[0m\n\u001b[1;32m    849\u001b[0m                 \u001b[0;34m\"raw_input was called, but this frontend does not support input requests.\"\u001b[0m\u001b[0;34m\u001b[0m\u001b[0;34m\u001b[0m\u001b[0m\n\u001b[1;32m    850\u001b[0m             )\n\u001b[0;32m--> 851\u001b[0;31m         return self._input_request(str(prompt),\n\u001b[0m\u001b[1;32m    852\u001b[0m             \u001b[0mself\u001b[0m\u001b[0;34m.\u001b[0m\u001b[0m_parent_ident\u001b[0m\u001b[0;34m,\u001b[0m\u001b[0;34m\u001b[0m\u001b[0;34m\u001b[0m\u001b[0m\n\u001b[1;32m    853\u001b[0m             \u001b[0mself\u001b[0m\u001b[0;34m.\u001b[0m\u001b[0m_parent_header\u001b[0m\u001b[0;34m,\u001b[0m\u001b[0;34m\u001b[0m\u001b[0;34m\u001b[0m\u001b[0m\n",
            "\u001b[0;32m/usr/local/lib/python3.10/dist-packages/ipykernel/kernelbase.py\u001b[0m in \u001b[0;36m_input_request\u001b[0;34m(self, prompt, ident, parent, password)\u001b[0m\n\u001b[1;32m    893\u001b[0m             \u001b[0;32mexcept\u001b[0m \u001b[0mKeyboardInterrupt\u001b[0m\u001b[0;34m:\u001b[0m\u001b[0;34m\u001b[0m\u001b[0;34m\u001b[0m\u001b[0m\n\u001b[1;32m    894\u001b[0m                 \u001b[0;31m# re-raise KeyboardInterrupt, to truncate traceback\u001b[0m\u001b[0;34m\u001b[0m\u001b[0;34m\u001b[0m\u001b[0m\n\u001b[0;32m--> 895\u001b[0;31m                 \u001b[0;32mraise\u001b[0m \u001b[0mKeyboardInterrupt\u001b[0m\u001b[0;34m(\u001b[0m\u001b[0;34m\"Interrupted by user\"\u001b[0m\u001b[0;34m)\u001b[0m \u001b[0;32mfrom\u001b[0m \u001b[0;32mNone\u001b[0m\u001b[0;34m\u001b[0m\u001b[0;34m\u001b[0m\u001b[0m\n\u001b[0m\u001b[1;32m    896\u001b[0m             \u001b[0;32mexcept\u001b[0m \u001b[0mException\u001b[0m \u001b[0;32mas\u001b[0m \u001b[0me\u001b[0m\u001b[0;34m:\u001b[0m\u001b[0;34m\u001b[0m\u001b[0;34m\u001b[0m\u001b[0m\n\u001b[1;32m    897\u001b[0m                 \u001b[0mself\u001b[0m\u001b[0;34m.\u001b[0m\u001b[0mlog\u001b[0m\u001b[0;34m.\u001b[0m\u001b[0mwarning\u001b[0m\u001b[0;34m(\u001b[0m\u001b[0;34m\"Invalid Message:\"\u001b[0m\u001b[0;34m,\u001b[0m \u001b[0mexc_info\u001b[0m\u001b[0;34m=\u001b[0m\u001b[0;32mTrue\u001b[0m\u001b[0;34m)\u001b[0m\u001b[0;34m\u001b[0m\u001b[0;34m\u001b[0m\u001b[0m\n",
            "\u001b[0;31mKeyboardInterrupt\u001b[0m: Interrupted by user"
          ]
        }
      ]
    },
    {
      "cell_type": "code",
      "execution_count": 15,
      "metadata": {
        "colab": {
          "base_uri": "https://localhost:8080/"
        },
        "id": "I9lPQBE0yy1H",
        "outputId": "61749ce3-7bb5-48dd-90e3-a00817c3c0be"
      },
      "outputs": [
        {
          "output_type": "stream",
          "name": "stdout",
          "text": [
            "Guess the number: 35\n",
            "Guess the number: 35\n",
            "x > guess\n",
            "Guess the number: 40\n",
            "x > guess\n",
            "Guess the number: 45\n",
            "x < guess\n",
            "Congratulations, the number is 45\n"
          ]
        }
      ],
      "source": [
        "randn = random.randint(0,50)\n",
        "\n",
        "guess = int(input('Guess the number: '))\n",
        "\n",
        "while guess != randn:\n",
        "  guess = int(input('Guess the number: '))\n",
        "\n",
        "  if guess < randn:\n",
        "    print('x > guess')\n",
        "  else:\n",
        "    print('x < guess')\n",
        "\n",
        "print(f'Congratulations, the number is {randn}')"
      ]
    },
    {
      "cell_type": "markdown",
      "metadata": {
        "id": "owsPeKkZ0u3d"
      },
      "source": [
        "# Let the computer guess"
      ]
    },
    {
      "cell_type": "code",
      "source": [
        "number = 37\n",
        "\n",
        "lower = 0\n",
        "upper = 1000000\n",
        "\n",
        "randn = random.randint(lower, upper)\n",
        "\n",
        "i = 0\n",
        "while number != randn:\n",
        "  i += 1\n",
        "\n",
        "  if randn < number:\n",
        "    lower = randn\n",
        "    randn = random.randint(lower, upper)\n",
        "\n",
        "  elif randn > number:\n",
        "    upper = randn\n",
        "    randn = random.randint(lower, upper)\n",
        "\n",
        "  print(f'Computer guess: {randn}')\n",
        "\n",
        "print(i)"
      ],
      "metadata": {
        "colab": {
          "base_uri": "https://localhost:8080/"
        },
        "id": "R5otEn-V1Dpn",
        "outputId": "34f17ec0-fc67-495c-89c3-b4976b3b2717"
      },
      "execution_count": 32,
      "outputs": [
        {
          "output_type": "stream",
          "name": "stdout",
          "text": [
            "Computer guess: 233782\n",
            "Computer guess: 6609\n",
            "Computer guess: 3398\n",
            "Computer guess: 778\n",
            "Computer guess: 679\n",
            "Computer guess: 646\n",
            "Computer guess: 482\n",
            "Computer guess: 181\n",
            "Computer guess: 169\n",
            "Computer guess: 85\n",
            "Computer guess: 26\n",
            "Computer guess: 52\n",
            "Computer guess: 43\n",
            "Computer guess: 29\n",
            "Computer guess: 40\n",
            "Computer guess: 29\n",
            "Computer guess: 33\n",
            "Computer guess: 39\n",
            "Computer guess: 33\n",
            "Computer guess: 38\n",
            "Computer guess: 36\n",
            "Computer guess: 36\n",
            "Computer guess: 36\n",
            "Computer guess: 38\n",
            "Computer guess: 38\n",
            "Computer guess: 37\n",
            "26\n"
          ]
        }
      ]
    },
    {
      "cell_type": "code",
      "execution_count": null,
      "metadata": {
        "colab": {
          "base_uri": "https://localhost:8080/"
        },
        "id": "cRyOii8T0xsw",
        "outputId": "1fd5c87f-2afc-4c5b-f0fa-b1e6f99fad1c"
      },
      "outputs": [
        {
          "name": "stdout",
          "output_type": "stream",
          "text": [
            "Computer guess: 18\n",
            "Computer guess: 2\n",
            "Computer guess: 15\n",
            "Done in 3 steps and your number is 5\n"
          ]
        }
      ],
      "source": [
        "number = 5\n",
        "\n",
        "lower = 0\n",
        "upper = 100\n",
        "randn = random.randint(lower, upper)\n",
        "\n",
        "i = 0\n",
        "while number != randn:\n",
        "\n",
        "  print(f'Computer guess: {randn}')\n",
        "\n",
        "  if randn > number:\n",
        "    upper = randn\n",
        "    randn = random.randint(lower, upper)\n",
        "  else:\n",
        "    lower = randn\n",
        "    randn = random.randint(lower, upper)\n",
        "\n",
        "  i += 1\n",
        "\n",
        "print(f'Done in {i} steps and your number is {randn}')"
      ]
    },
    {
      "cell_type": "code",
      "execution_count": null,
      "metadata": {
        "id": "vJzRJ_Lv_HGb"
      },
      "outputs": [],
      "source": []
    },
    {
      "cell_type": "code",
      "source": [],
      "metadata": {
        "colab": {
          "base_uri": "https://localhost:8080/"
        },
        "id": "WA1y9hIt09w2",
        "outputId": "381efc42-5b43-4b68-d91f-31759040e084"
      },
      "execution_count": 34,
      "outputs": [
        {
          "output_type": "execute_result",
          "data": {
            "text/plain": [
              "[0, 0, 1, 1, 2, 3]"
            ]
          },
          "metadata": {},
          "execution_count": 34
        }
      ]
    },
    {
      "cell_type": "code",
      "source": [
        "l = [0,0,1,1,0,2,3]\n",
        "non_zeros = []\n",
        "zeros = []\n",
        "\n",
        "for e in l:\n",
        "  if e != 0:\n",
        "    non_zeros.append(e)\n",
        "  else:\n",
        "    zeros.append(e)\n",
        "\n",
        "new_list = non_zeros + zeros\n",
        "new_list"
      ],
      "metadata": {
        "colab": {
          "base_uri": "https://localhost:8080/"
        },
        "id": "NS2iZCZ3-aNj",
        "outputId": "fac26eb7-49a0-4c6b-a2fc-925155594341"
      },
      "execution_count": 40,
      "outputs": [
        {
          "output_type": "execute_result",
          "data": {
            "text/plain": [
              "[1, 1, 2, 3, 0, 0, 0]"
            ]
          },
          "metadata": {},
          "execution_count": 40
        }
      ]
    },
    {
      "cell_type": "code",
      "source": [
        "[i for i in range(10) if i % 2 == 0]"
      ],
      "metadata": {
        "colab": {
          "base_uri": "https://localhost:8080/"
        },
        "id": "A-ljux2U_2qg",
        "outputId": "0a7e9d37-36a0-417f-dce8-09be1bad11ba"
      },
      "execution_count": 44,
      "outputs": [
        {
          "output_type": "execute_result",
          "data": {
            "text/plain": [
              "[0, 2, 4, 6, 8]"
            ]
          },
          "metadata": {},
          "execution_count": 44
        }
      ]
    },
    {
      "cell_type": "code",
      "source": [
        "new_list = [num for num in l if num != 0] + [num for num in l if num == 0]\n",
        "new_list"
      ],
      "metadata": {
        "colab": {
          "base_uri": "https://localhost:8080/"
        },
        "id": "BvCUCRmF_fPt",
        "outputId": "6716be67-5614-49d6-d195-cb9390e8baa3"
      },
      "execution_count": 45,
      "outputs": [
        {
          "output_type": "execute_result",
          "data": {
            "text/plain": [
              "[1, 1, 2, 3, 0, 0, 0]"
            ]
          },
          "metadata": {},
          "execution_count": 45
        }
      ]
    },
    {
      "cell_type": "code",
      "source": [],
      "metadata": {
        "id": "GM6xoUaOAmvW"
      },
      "execution_count": null,
      "outputs": []
    }
  ],
  "metadata": {
    "colab": {
      "provenance": [],
      "authorship_tag": "ABX9TyP1okCp4tLwzQHesi0ehZlb",
      "include_colab_link": true
    },
    "kernelspec": {
      "display_name": "Python 3",
      "name": "python3"
    },
    "language_info": {
      "name": "python"
    }
  },
  "nbformat": 4,
  "nbformat_minor": 0
}