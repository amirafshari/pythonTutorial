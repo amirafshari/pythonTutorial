{
  "nbformat": 4,
  "nbformat_minor": 0,
  "metadata": {
    "colab": {
      "provenance": [],
      "authorship_tag": "ABX9TyOknPA5kihEkqJ1l983kw5R",
      "include_colab_link": true
    },
    "kernelspec": {
      "name": "python3",
      "display_name": "Python 3"
    },
    "language_info": {
      "name": "python"
    }
  },
  "cells": [
    {
      "cell_type": "markdown",
      "metadata": {
        "id": "view-in-github",
        "colab_type": "text"
      },
      "source": [
        "<a href=\"https://colab.research.google.com/github/amirafshari/pythonTutorial/blob/main/sess1_5.ipynb\" target=\"_parent\"><img src=\"https://colab.research.google.com/assets/colab-badge.svg\" alt=\"Open In Colab\"/></a>"
      ]
    },
    {
      "cell_type": "markdown",
      "source": [
        "### Multiple Assignmetns\n"
      ],
      "metadata": {
        "id": "tu_FXe1UEqvU"
      }
    },
    {
      "cell_type": "code",
      "execution_count": null,
      "metadata": {
        "id": "5hJ_LrL0ELV7"
      },
      "outputs": [],
      "source": [
        "a, b, c = 1, 2, 3\n",
        "\n",
        "print('a: ', a, 'b: ', b, 'c: ', c)"
      ]
    },
    {
      "cell_type": "markdown",
      "source": [
        "### Newline"
      ],
      "metadata": {
        "id": "MdGNSFJmEt5d"
      }
    },
    {
      "cell_type": "code",
      "source": [
        "print('a: ', a, '\\nb: ', b, '\\nc: ', c)"
      ],
      "metadata": {
        "id": "b0X5W0tfEuaF"
      },
      "execution_count": null,
      "outputs": []
    },
    {
      "cell_type": "markdown",
      "source": [
        "### Titlize"
      ],
      "metadata": {
        "id": "jXTf_Me2Euqs"
      }
    },
    {
      "cell_type": "code",
      "source": [
        "exp = 'i wanna go to berlin next week'\n",
        "print(exp.title())"
      ],
      "metadata": {
        "id": "OKkqZ6tTEvBD"
      },
      "execution_count": null,
      "outputs": []
    },
    {
      "cell_type": "markdown",
      "source": [
        "### Using variables in strings (f string)"
      ],
      "metadata": {
        "id": "npfOIwnvEvP0"
      }
    },
    {
      "cell_type": "code",
      "source": [
        "name = 'Jin'\n",
        "age = 23\n",
        "print(f'Her name is {name} and she is {age} years old')"
      ],
      "metadata": {
        "id": "f80zbz8PEvgh"
      },
      "execution_count": null,
      "outputs": []
    },
    {
      "cell_type": "markdown",
      "source": [
        "### Using '' inside a string"
      ],
      "metadata": {
        "id": "WEa5zopQEvvU"
      }
    },
    {
      "cell_type": "code",
      "source": [
        "exp = 'Hi! My name is \\'Alex\\' what is your name?'\n",
        "print(exp)"
      ],
      "metadata": {
        "id": "BYRCDwMWEwH1"
      },
      "execution_count": null,
      "outputs": []
    },
    {
      "cell_type": "markdown",
      "source": [
        "### Underscore in Numbers"
      ],
      "metadata": {
        "id": "7DTtNs1cE-d1"
      }
    },
    {
      "cell_type": "code",
      "source": [
        "num1 = 14000000000\n",
        "num2 = 14_000_000_000\n",
        "\n",
        "print(num1)\n",
        "print(num2)"
      ],
      "metadata": {
        "id": "EP3myvQME-vN"
      },
      "execution_count": null,
      "outputs": []
    }
  ]
}