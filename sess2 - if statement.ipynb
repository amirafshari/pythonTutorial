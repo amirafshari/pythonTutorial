{
  "nbformat": 4,
  "nbformat_minor": 0,
  "metadata": {
    "colab": {
      "provenance": [],
      "authorship_tag": "ABX9TyMwzYUYX4Od73aLxmLtgB3r",
      "include_colab_link": true
    },
    "kernelspec": {
      "name": "python3",
      "display_name": "Python 3"
    },
    "language_info": {
      "name": "python"
    }
  },
  "cells": [
    {
      "cell_type": "markdown",
      "metadata": {
        "id": "view-in-github",
        "colab_type": "text"
      },
      "source": [
        "<a href=\"https://colab.research.google.com/github/amirafshari/pythonTutorial/blob/main/sess2.ipynb\" target=\"_parent\"><img src=\"https://colab.research.google.com/assets/colab-badge.svg\" alt=\"Open In Colab\"/></a>"
      ]
    },
    {
      "cell_type": "markdown",
      "source": [
        "# Lists (a brief introduction)"
      ],
      "metadata": {
        "id": "93KBwmiQRIk6"
      }
    },
    {
      "cell_type": "markdown",
      "source": [
        "### Define a list\n",
        "we use **[ ]** to define a list\n",
        "\n",
        "we can't use **\"list\"** for our variable name, beacuse it's a python keyword"
      ],
      "metadata": {
        "id": "8l16-uq8KPxh"
      }
    },
    {
      "cell_type": "code",
      "source": [
        "myList = [] # This is an empty list\n",
        "\n",
        "myList2 = [1,2,3,4,5] # a list of integers\n",
        "\n",
        "myList3 = ['apple', 'bannana', 'pineapple', 'orange'] # a list of fruits\n",
        "\n",
        "myList4 = ['1', 2, 'John', 3.14, [], [1,23], 'b'] # a list can contain anything!"
      ],
      "metadata": {
        "id": "Yhrt4GyUROGr"
      },
      "execution_count": null,
      "outputs": []
    },
    {
      "cell_type": "markdown",
      "source": [
        "### Access the elements of the list\n",
        "We can access the elements of a list by their **\"index\"**\n",
        "\n",
        "We always count from 0 in computer science!"
      ],
      "metadata": {
        "id": "Udokvwj7KSNl"
      }
    },
    {
      "cell_type": "code",
      "source": [
        "myList = ['Berlin', 'Toronto', 'New York', 'Koln', 'Amsterdam']\n",
        "\n",
        "print(myList[0])\n",
        "print(myList[1])\n",
        "print(myList[2])\n",
        "print(myList[3])\n",
        "print(myList[4])"
      ],
      "metadata": {
        "id": "npF1bfXcKVRo",
        "outputId": "df9f34e4-77da-4a64-8427-456a64a309d8",
        "colab": {
          "base_uri": "https://localhost:8080/"
        }
      },
      "execution_count": null,
      "outputs": [
        {
          "output_type": "stream",
          "name": "stdout",
          "text": [
            "Berlin\n",
            "Toronto\n",
            "New York\n",
            "Koln\n",
            "Amsterdam\n"
          ]
        }
      ]
    },
    {
      "cell_type": "markdown",
      "source": [
        "# Comparison Operations"
      ],
      "metadata": {
        "id": "I8U8PJNqE5AV"
      }
    },
    {
      "cell_type": "code",
      "execution_count": null,
      "metadata": {
        "colab": {
          "base_uri": "https://localhost:8080/"
        },
        "id": "_Y4I3kt7E06v",
        "outputId": "2095e7df-87ad-4465-9664-bf7d9e992226"
      },
      "outputs": [
        {
          "output_type": "stream",
          "name": "stdout",
          "text": [
            "False\n"
          ]
        }
      ],
      "source": [
        "print(2 > 3)"
      ]
    },
    {
      "cell_type": "code",
      "source": [
        "print(5 > 1.5)"
      ],
      "metadata": {
        "colab": {
          "base_uri": "https://localhost:8080/"
        },
        "id": "tqxESE3PL3B9",
        "outputId": "500cb74f-62cb-4913-9fec-0da62a83cdb2"
      },
      "execution_count": null,
      "outputs": [
        {
          "output_type": "stream",
          "name": "stdout",
          "text": [
            "True\n"
          ]
        }
      ]
    },
    {
      "cell_type": "code",
      "source": [
        "print(10 == 10)"
      ],
      "metadata": {
        "colab": {
          "base_uri": "https://localhost:8080/"
        },
        "id": "m_81H8EnL6l6",
        "outputId": "e66fff28-e7d1-4086-b86f-16ecbfa7b2b6"
      },
      "execution_count": null,
      "outputs": [
        {
          "output_type": "stream",
          "name": "stdout",
          "text": [
            "True\n"
          ]
        }
      ]
    },
    {
      "cell_type": "code",
      "source": [
        "print(13 != 5)"
      ],
      "metadata": {
        "colab": {
          "base_uri": "https://localhost:8080/"
        },
        "id": "ruHKexMDL-uo",
        "outputId": "4c7098b7-df7e-48f0-c93b-58f7ddcbf600"
      },
      "execution_count": null,
      "outputs": [
        {
          "output_type": "stream",
          "name": "stdout",
          "text": [
            "True\n"
          ]
        }
      ]
    },
    {
      "cell_type": "code",
      "source": [
        "str1 = 'aksjnfndfjndj'\n",
        "str2 = 'aksjnfndfjndj'\n",
        "str3 = 'aksjmfndfjndj'\n",
        "\n",
        "print(str1 == str2)\n",
        "print(str1 == str3)"
      ],
      "metadata": {
        "colab": {
          "base_uri": "https://localhost:8080/"
        },
        "id": "RtChUsrFMKv_",
        "outputId": "466bd980-6a0e-4cc7-d623-c5482b0efe6f"
      },
      "execution_count": null,
      "outputs": [
        {
          "output_type": "stream",
          "name": "stdout",
          "text": [
            "True\n",
            "False\n"
          ]
        }
      ]
    },
    {
      "cell_type": "code",
      "source": [
        "print(14 >= 14) # Greater or equal\n",
        "\n",
        "print(14 <= 15) # Less or equal"
      ],
      "metadata": {
        "colab": {
          "base_uri": "https://localhost:8080/"
        },
        "id": "H11CzFjsMk11",
        "outputId": "fff8684a-056b-4563-d49b-81a4cf84f999"
      },
      "execution_count": null,
      "outputs": [
        {
          "output_type": "stream",
          "name": "stdout",
          "text": [
            "True\n",
            "True\n"
          ]
        }
      ]
    },
    {
      "cell_type": "code",
      "source": [
        "age = 18\n",
        "age == 18"
      ],
      "metadata": {
        "colab": {
          "base_uri": "https://localhost:8080/"
        },
        "id": "MSF5WkBsOPqE",
        "outputId": "6958ff77-3adb-4e64-e69a-19cbe48f7be7"
      },
      "execution_count": null,
      "outputs": [
        {
          "output_type": "execute_result",
          "data": {
            "text/plain": [
              "True"
            ]
          },
          "metadata": {},
          "execution_count": 15
        }
      ]
    },
    {
      "cell_type": "code",
      "source": [
        "age == 19"
      ],
      "metadata": {
        "id": "cUSIZ9WtOZ7Y",
        "outputId": "43564436-6581-435d-8a95-7b973b6f6742",
        "colab": {
          "base_uri": "https://localhost:8080/"
        }
      },
      "execution_count": null,
      "outputs": [
        {
          "output_type": "execute_result",
          "data": {
            "text/plain": [
              "False"
            ]
          },
          "metadata": {},
          "execution_count": 16
        }
      ]
    },
    {
      "cell_type": "markdown",
      "source": [
        "## If Statement\n",
        "**Syntax:**\n",
        "```\n",
        "if condition:\n",
        "  expression\n",
        "\n",
        "elif condition:\n",
        "  expression\n",
        "  \n",
        "elif condition:\n",
        "  expression\n",
        ".\n",
        ".\n",
        ".\n",
        "else:\n",
        "  expression\n",
        "```"
      ],
      "metadata": {
        "id": "OhCp1HIqToeO"
      }
    },
    {
      "cell_type": "code",
      "source": [
        "age = 16\n",
        "\n",
        "if age > 18:\n",
        "  print('You are old enough to use Google Colab!')\n",
        "else:\n",
        "  print('Age restriction!')"
      ],
      "metadata": {
        "colab": {
          "base_uri": "https://localhost:8080/"
        },
        "id": "ulbYp4SfOISW",
        "outputId": "22f3e9e2-4faf-492b-9500-66a990a50268"
      },
      "execution_count": null,
      "outputs": [
        {
          "output_type": "stream",
          "name": "stdout",
          "text": [
            "Age restriction!\n"
          ]
        }
      ]
    },
    {
      "cell_type": "code",
      "source": [
        "age = 16\n",
        "\n",
        "if age < 4:\n",
        "  price = 0\n",
        "  print(f'Your admission cost is {price}')\n",
        "elif age < 18:\n",
        "  price = 25\n",
        "  print(f'Your admission cost is {price}')\n",
        "elif age < 65:\n",
        "  price = 40\n",
        "  print(f'Your admission cost is {price}')\n",
        "else:\n",
        "  price = 20\n",
        "  print(f'Your admission cost is {price}')"
      ],
      "metadata": {
        "colab": {
          "base_uri": "https://localhost:8080/"
        },
        "id": "X41B2gcrP71k",
        "outputId": "dd2b428e-58ef-4e4f-e588-eda45950c211"
      },
      "execution_count": null,
      "outputs": [
        {
          "output_type": "stream",
          "name": "stdout",
          "text": [
            "Your admission cost is 25\n"
          ]
        }
      ]
    },
    {
      "cell_type": "code",
      "source": [],
      "metadata": {
        "id": "XaV_uCrBMuwe"
      },
      "execution_count": null,
      "outputs": []
    }
  ]
}
