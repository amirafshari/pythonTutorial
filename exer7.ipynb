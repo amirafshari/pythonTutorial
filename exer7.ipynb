{
  "nbformat": 4,
  "nbformat_minor": 0,
  "metadata": {
    "colab": {
      "provenance": [],
      "authorship_tag": "ABX9TyMCD2AOu8jaK2vt4A2YWQuB",
      "include_colab_link": true
    },
    "kernelspec": {
      "name": "python3",
      "display_name": "Python 3"
    },
    "language_info": {
      "name": "python"
    }
  },
  "cells": [
    {
      "cell_type": "markdown",
      "metadata": {
        "id": "view-in-github",
        "colab_type": "text"
      },
      "source": [
        "<a href=\"https://colab.research.google.com/github/amirafshari/pythonTutorial/blob/main/exer7.ipynb\" target=\"_parent\"><img src=\"https://colab.research.google.com/assets/colab-badge.svg\" alt=\"Open In Colab\"/></a>"
      ]
    },
    {
      "cell_type": "code",
      "execution_count": 1,
      "metadata": {
        "id": "jFW899GToNlQ"
      },
      "outputs": [],
      "source": [
        "matrix = [[1,2,3],\n",
        "          [4,5,6],\n",
        "          [7,8,9]]"
      ]
    },
    {
      "cell_type": "code",
      "source": [
        "(1 + 5 + 9) - (3 + 5 + 7)"
      ],
      "metadata": {
        "colab": {
          "base_uri": "https://localhost:8080/"
        },
        "id": "JzgHknV8qKui",
        "outputId": "cc9b2af0-6e1a-4519-fa64-6b4159788c63"
      },
      "execution_count": 2,
      "outputs": [
        {
          "output_type": "execute_result",
          "data": {
            "text/plain": [
              "0"
            ]
          },
          "metadata": {},
          "execution_count": 2
        }
      ]
    },
    {
      "cell_type": "code",
      "source": [
        "print(matrix[1][2])"
      ],
      "metadata": {
        "colab": {
          "base_uri": "https://localhost:8080/"
        },
        "id": "cbbNmF6-qimz",
        "outputId": "a08b7b57-4a6e-4c85-ddcf-2b2d4586d62d"
      },
      "execution_count": 8,
      "outputs": [
        {
          "output_type": "stream",
          "name": "stdout",
          "text": [
            "6\n"
          ]
        }
      ]
    },
    {
      "cell_type": "code",
      "source": [
        "a = []\n",
        "b = []"
      ],
      "metadata": {
        "id": "vP1iGxzUwPYc"
      },
      "execution_count": 14,
      "outputs": []
    },
    {
      "cell_type": "code",
      "source": [
        "for i in range(len(matrix)):\n",
        "  a.append(matrix[i][i])\n",
        "  b.append(matrix[i][len(matrix)-1-i])"
      ],
      "metadata": {
        "id": "qTBKvDU8sTRF"
      },
      "execution_count": 15,
      "outputs": []
    },
    {
      "cell_type": "code",
      "source": [
        "print(a, b)"
      ],
      "metadata": {
        "colab": {
          "base_uri": "https://localhost:8080/"
        },
        "id": "J5ZUYMNlrdEP",
        "outputId": "0fe168d1-7e4d-4284-9044-f97c9b35316a"
      },
      "execution_count": 16,
      "outputs": [
        {
          "output_type": "stream",
          "name": "stdout",
          "text": [
            "[1, 5, 9] [3, 5, 7]\n"
          ]
        }
      ]
    },
    {
      "cell_type": "code",
      "source": [
        "sum(a)"
      ],
      "metadata": {
        "colab": {
          "base_uri": "https://localhost:8080/"
        },
        "id": "h6Gnw2EhwR9L",
        "outputId": "2181f50d-a170-4b27-8af8-bb7874fa9f03"
      },
      "execution_count": 17,
      "outputs": [
        {
          "output_type": "execute_result",
          "data": {
            "text/plain": [
              "15"
            ]
          },
          "metadata": {},
          "execution_count": 17
        }
      ]
    },
    {
      "cell_type": "code",
      "source": [
        "import random\n",
        "\n",
        "n = 5\n",
        "matrix = []\n",
        "\n",
        "for i in range(n):\n",
        "  row = [random.randint(1,100) for i in range(n)]\n",
        "  matrix.append(row)"
      ],
      "metadata": {
        "id": "U8B0_wrNxtVV"
      },
      "execution_count": 32,
      "outputs": []
    },
    {
      "cell_type": "code",
      "source": [
        "matrix"
      ],
      "metadata": {
        "colab": {
          "base_uri": "https://localhost:8080/"
        },
        "id": "2lkgY9Vo70ac",
        "outputId": "300c3e5e-e123-4595-b534-52426e1ae799"
      },
      "execution_count": 33,
      "outputs": [
        {
          "output_type": "execute_result",
          "data": {
            "text/plain": [
              "[[86, 5, 71, 95, 100],\n",
              " [87, 96, 52, 85, 10],\n",
              " [2, 26, 61, 80, 9],\n",
              " [30, 44, 20, 69, 86],\n",
              " [49, 21, 19, 70, 7]]"
            ]
          },
          "metadata": {},
          "execution_count": 33
        }
      ]
    },
    {
      "cell_type": "code",
      "source": [
        "for i in range(n):\n",
        "  matrix.append([random.])"
      ],
      "metadata": {
        "id": "SpDogHqhzv_u"
      },
      "execution_count": 28,
      "outputs": []
    },
    {
      "cell_type": "code",
      "source": [
        "matrix"
      ],
      "metadata": {
        "colab": {
          "base_uri": "https://localhost:8080/"
        },
        "id": "9uaJTrJA0JMH",
        "outputId": "e85c2d9f-facb-47ec-de60-8005f731293a"
      },
      "execution_count": 29,
      "outputs": [
        {
          "output_type": "execute_result",
          "data": {
            "text/plain": [
              "[[79, 64, 54, 47, 89],\n",
              " [38, 13, 22, 8, 50],\n",
              " [73, 66, 91, 60, 2],\n",
              " [76, 89, 86, 17, 4],\n",
              " [98, 73, 40, 6, 75]]"
            ]
          },
          "metadata": {},
          "execution_count": 29
        }
      ]
    },
    {
      "cell_type": "code",
      "source": [
        "row1"
      ],
      "metadata": {
        "colab": {
          "base_uri": "https://localhost:8080/"
        },
        "id": "IYC0jFYD0Pcy",
        "outputId": "492b0735-4d05-46d2-bfba-8f458081b75c"
      },
      "execution_count": 30,
      "outputs": [
        {
          "output_type": "execute_result",
          "data": {
            "text/plain": [
              "[79, 64, 54, 47, 89]"
            ]
          },
          "metadata": {},
          "execution_count": 30
        }
      ]
    },
    {
      "cell_type": "code",
      "source": [
        "for element in row1:\n",
        "  print(element)"
      ],
      "metadata": {
        "colab": {
          "base_uri": "https://localhost:8080/"
        },
        "id": "HQEWApDf06mL",
        "outputId": "b154262d-a6df-4cb9-9cfa-78f8df147930"
      },
      "execution_count": 31,
      "outputs": [
        {
          "output_type": "stream",
          "name": "stdout",
          "text": [
            "79\n",
            "64\n",
            "54\n",
            "47\n",
            "89\n"
          ]
        }
      ]
    },
    {
      "cell_type": "code",
      "source": [
        "for i in range():\n",
        ""
      ],
      "metadata": {
        "id": "YK45xaFt0_DV"
      },
      "execution_count": null,
      "outputs": []
    }
  ]
}