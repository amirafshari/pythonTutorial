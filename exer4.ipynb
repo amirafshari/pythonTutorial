{
  "nbformat": 4,
  "nbformat_minor": 0,
  "metadata": {
    "colab": {
      "provenance": [],
      "authorship_tag": "ABX9TyPVzrmpGibxrF1ADI+4Mqvm",
      "include_colab_link": true
    },
    "kernelspec": {
      "name": "python3",
      "display_name": "Python 3"
    },
    "language_info": {
      "name": "python"
    }
  },
  "cells": [
    {
      "cell_type": "markdown",
      "metadata": {
        "id": "view-in-github",
        "colab_type": "text"
      },
      "source": [
        "<a href=\"https://colab.research.google.com/github/amirafshari/pythonTutorial/blob/main/exer4.ipynb\" target=\"_parent\"><img src=\"https://colab.research.google.com/assets/colab-badge.svg\" alt=\"Open In Colab\"/></a>"
      ]
    },
    {
      "cell_type": "markdown",
      "source": [
        "# Find The Difference\n",
        "https://leetcode.com/problems/find-the-difference-of-two-arrays/"
      ],
      "metadata": {
        "id": "35Oz0oMkAqmZ"
      }
    },
    {
      "cell_type": "code",
      "source": [
        "def find_the_differnce(nums1: list, nums2: list) -> list:\n",
        "  intersections = []\n",
        "\n",
        "  for n in nums1:\n",
        "    if n in nums2:\n",
        "      intersections.append(n)\n",
        "  \n",
        "  for e in intersections:\n",
        "    nums1.remove(e)\n",
        "    nums2.remove(e)\n",
        "\n",
        "  return [nums1, nums2]"
      ],
      "metadata": {
        "id": "o0PLpYIg9YrC"
      },
      "execution_count": null,
      "outputs": []
    },
    {
      "cell_type": "code",
      "source": [
        "find_the_differnce(nums1, nums2)"
      ],
      "metadata": {
        "colab": {
          "base_uri": "https://localhost:8080/"
        },
        "id": "uDWT8iLB_mHQ",
        "outputId": "07fb8cbe-e9b1-48e4-cbba-b902b91ac561"
      },
      "execution_count": null,
      "outputs": [
        {
          "output_type": "execute_result",
          "data": {
            "text/plain": [
              "[[2, 3], [4, 5, 8, 9, 24]]"
            ]
          },
          "metadata": {},
          "execution_count": 24
        }
      ]
    },
    {
      "cell_type": "markdown",
      "source": [
        "# Add Two Numbers\n",
        "https://leetcode.com/problems/add-two-numbers/"
      ],
      "metadata": {
        "id": "IOrQRCp0DPvJ"
      }
    },
    {
      "cell_type": "markdown",
      "source": [
        "## 1"
      ],
      "metadata": {
        "id": "nrxz-xe5whyy"
      }
    },
    {
      "cell_type": "code",
      "source": [
        "nums1 = [1, 2, 3, 7]\n",
        "nums2 = [21, 4, 7, 5]"
      ],
      "metadata": {
        "id": "uGWFBXvr-gft"
      },
      "execution_count": null,
      "outputs": []
    },
    {
      "cell_type": "code",
      "source": [
        "def add_two_numbers(nums1, nums2):\n",
        "  output = []\n",
        "\n",
        "  for i in range(len(nums1)):\n",
        "    output.append(nums1[i] + nums2[i])\n",
        "\n",
        "  return output"
      ],
      "metadata": {
        "id": "hRkih1JyBf9E"
      },
      "execution_count": null,
      "outputs": []
    },
    {
      "cell_type": "code",
      "source": [
        "add_two_numbers(nums1, nums2)"
      ],
      "metadata": {
        "colab": {
          "base_uri": "https://localhost:8080/"
        },
        "id": "1-mBGTeRDzmY",
        "outputId": "1394418b-e04d-49bd-a306-99f1b548c04b"
      },
      "execution_count": null,
      "outputs": [
        {
          "output_type": "execute_result",
          "data": {
            "text/plain": [
              "[22, 6, 10, 12]"
            ]
          },
          "metadata": {},
          "execution_count": 27
        }
      ]
    },
    {
      "cell_type": "markdown",
      "source": [
        "## 2"
      ],
      "metadata": {
        "id": "OacJpo_ZwjM8"
      }
    },
    {
      "cell_type": "code",
      "source": [
        "nums1 = [7, 0, 8]\n",
        "nums2 = [5, 6, 4]"
      ],
      "metadata": {
        "id": "n2GZ5iHXwkwr"
      },
      "execution_count": null,
      "outputs": []
    },
    {
      "cell_type": "code",
      "source": [
        "def list_to_reverse_int(nums: list) -> int:\n",
        "  nums = nums[::-1]\n",
        "\n",
        "  output = ''\n",
        "\n",
        "  for e in nums:\n",
        "    output += str(e) # output = output + str(e)\n",
        "\n",
        "  output = int(output)\n",
        "\n",
        "  return output"
      ],
      "metadata": {
        "id": "v0XxESS8wn2f"
      },
      "execution_count": null,
      "outputs": []
    },
    {
      "cell_type": "code",
      "source": [
        "def addTwo(nums1, nums2):\n",
        "  num1 = list_to_reverse_int(nums1)\n",
        "  num2 = list_to_reverse_int(nums2)\n",
        "\n",
        "  summation = num1 + num2\n",
        "\n",
        "  summation = str(summation)\n",
        "\n",
        "  summation = list(summation)\n",
        "\n",
        "  summation = summation[::-1]\n",
        "\n",
        "\n",
        "  return summation"
      ],
      "metadata": {
        "id": "VOb0I2ypwp6O"
      },
      "execution_count": null,
      "outputs": []
    },
    {
      "cell_type": "code",
      "source": [
        "asqar = [7, 0, 8]\n",
        "akbar = [5, 6, 4]\n",
        "\n",
        "addTwo(asqar, akbar)"
      ],
      "metadata": {
        "id": "zmlwModmwrcd"
      },
      "execution_count": null,
      "outputs": []
    },
    {
      "cell_type": "markdown",
      "source": [
        "# Median of Two Arrays\n",
        "https://leetcode.com/problems/median-of-two-sorted-arrays/"
      ],
      "metadata": {
        "id": "ExNxD9o6Hi9i"
      }
    },
    {
      "cell_type": "code",
      "source": [],
      "metadata": {
        "id": "_C6Cq0_H49iE"
      },
      "execution_count": null,
      "outputs": []
    }
  ]
}