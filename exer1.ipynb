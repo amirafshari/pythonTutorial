{
  "nbformat": 4,
  "nbformat_minor": 0,
  "metadata": {
    "colab": {
      "provenance": [],
      "authorship_tag": "ABX9TyOS+z6jVj4sRu5lTz7tmKXv",
      "include_colab_link": true
    },
    "kernelspec": {
      "name": "python3",
      "display_name": "Python 3"
    },
    "language_info": {
      "name": "python"
    }
  },
  "cells": [
    {
      "cell_type": "markdown",
      "metadata": {
        "id": "view-in-github",
        "colab_type": "text"
      },
      "source": [
        "<a href=\"https://colab.research.google.com/github/amirafshari/pythonTutorial/blob/main/exer1.ipynb\" target=\"_parent\"><img src=\"https://colab.research.google.com/assets/colab-badge.svg\" alt=\"Open In Colab\"/></a>"
      ]
    },
    {
      "cell_type": "markdown",
      "source": [
        "# Exercise 1\n",
        "Define and print the name and age of 3 persons.  \n",
        "**You have to define 6 variables and use only 1 print()**\n",
        "\n",
        "**Output:**  \n",
        "Amir: 25  \n",
        "Sama: 21  \n",
        "Arad: 24"
      ],
      "metadata": {
        "id": "lwimsqD_WdzS"
      }
    },
    {
      "cell_type": "code",
      "source": [],
      "metadata": {
        "id": "aRtuZAGvXiDs"
      },
      "execution_count": null,
      "outputs": []
    },
    {
      "cell_type": "markdown",
      "source": [
        "## Exercise 2\n",
        "Write a program to calculate the area of circle based on the radius defined by the user.\n",
        "\n",
        "**Input:** int or float  \n",
        "**Output:**\n",
        "\"area: int or float\""
      ],
      "metadata": {
        "id": "IGVMM1R6XYZ0"
      }
    },
    {
      "cell_type": "code",
      "execution_count": null,
      "metadata": {
        "id": "y5iC91kWRqJX"
      },
      "outputs": [],
      "source": []
    },
    {
      "cell_type": "markdown",
      "source": [
        "# Exercise 3\n",
        "create a list with 5 numbers in it and calculate their average,  \n",
        "if the average is less than 50, print \"the average is less than 50 and it is equal to {average}\".  \n",
        "if the average is bigger than 50 print \"the average is more than 50 and it is equal to {average}\""
      ],
      "metadata": {
        "id": "U4aqERbXZfPL"
      }
    },
    {
      "cell_type": "markdown",
      "source": [
        "# Exercise 4\n",
        "Write a program to stores the name of your favorite cities and prints out their length and finally indicates the longest string belongs to which city.  \n",
        "**Output:**  \n",
        "Berlin: 6  \n",
        "Manchester: 10  \n",
        "Longest: Amsterdam: 10"
      ],
      "metadata": {
        "id": "7SfUyv3AbpQv"
      }
    },
    {
      "cell_type": "code",
      "source": [],
      "metadata": {
        "id": "56XiskHnboHb"
      },
      "execution_count": null,
      "outputs": []
    }
  ]
}