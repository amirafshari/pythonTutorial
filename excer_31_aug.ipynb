{
  "nbformat": 4,
  "nbformat_minor": 0,
  "metadata": {
    "colab": {
      "provenance": [],
      "authorship_tag": "ABX9TyMDYvP7sRpveOn37AVmh42J",
      "include_colab_link": true
    },
    "kernelspec": {
      "name": "python3",
      "display_name": "Python 3"
    },
    "language_info": {
      "name": "python"
    }
  },
  "cells": [
    {
      "cell_type": "markdown",
      "metadata": {
        "id": "view-in-github",
        "colab_type": "text"
      },
      "source": [
        "<a href=\"https://colab.research.google.com/github/amirafshari/pythonTutorial/blob/main/excer_31_aug.ipynb\" target=\"_parent\"><img src=\"https://colab.research.google.com/assets/colab-badge.svg\" alt=\"Open In Colab\"/></a>"
      ]
    },
    {
      "cell_type": "code",
      "execution_count": 68,
      "metadata": {
        "id": "qC0WRUdLXMP7"
      },
      "outputs": [],
      "source": [
        "text = 'if man was meant to stay on the ground god would have given us roots'\n",
        "s = 'if man was meant to stay on the ground god would have given us roots'"
      ]
    },
    {
      "cell_type": "code",
      "source": [
        "s = s.replace(' ', '')\n",
        "print(s)"
      ],
      "metadata": {
        "colab": {
          "base_uri": "https://localhost:8080/"
        },
        "id": "kJ47AaSxazCY",
        "outputId": "8a902b85-92d9-4dda-df42-c2bd71db4707"
      },
      "execution_count": 13,
      "outputs": [
        {
          "output_type": "stream",
          "name": "stdout",
          "text": [
            "ifmanwasmeanttostayonthegroundgodwouldhavegivenusroots\n"
          ]
        }
      ]
    },
    {
      "cell_type": "code",
      "source": [
        "l = len(s)\n",
        "print(l)"
      ],
      "metadata": {
        "colab": {
          "base_uri": "https://localhost:8080/"
        },
        "id": "G-vitoLobCTy",
        "outputId": "8443ee0f-267c-4daf-ca9d-087c73ea6ba5"
      },
      "execution_count": 14,
      "outputs": [
        {
          "output_type": "stream",
          "name": "stdout",
          "text": [
            "54\n"
          ]
        }
      ]
    },
    {
      "cell_type": "code",
      "source": [
        "import math"
      ],
      "metadata": {
        "id": "N6hYra-oc4cj"
      },
      "execution_count": 17,
      "outputs": []
    },
    {
      "cell_type": "code",
      "source": [
        "root = math.sqrt(l)\n",
        "print(root)"
      ],
      "metadata": {
        "colab": {
          "base_uri": "https://localhost:8080/"
        },
        "id": "X6wBPIO-dUwY",
        "outputId": "1d03c9df-30ea-4e09-bd5d-3daeb6f43e28"
      },
      "execution_count": 18,
      "outputs": [
        {
          "output_type": "stream",
          "name": "stdout",
          "text": [
            "7.3484692283495345\n"
          ]
        }
      ]
    },
    {
      "cell_type": "code",
      "source": [
        "row = math.floor(root)\n",
        "column = math.ceil(root)\n",
        "print(row, column)"
      ],
      "metadata": {
        "colab": {
          "base_uri": "https://localhost:8080/"
        },
        "id": "Gr2RtpIqdeFN",
        "outputId": "43e04703-7985-4b28-c764-7cae343cc94d"
      },
      "execution_count": 19,
      "outputs": [
        {
          "output_type": "stream",
          "name": "stdout",
          "text": [
            "7 8\n"
          ]
        }
      ]
    },
    {
      "cell_type": "code",
      "source": [
        "# s[start:end:step] #slicing"
      ],
      "metadata": {
        "colab": {
          "base_uri": "https://localhost:8080/",
          "height": 36
        },
        "id": "s9V2osI_dy9j",
        "outputId": "d99c5022-3b71-4378-d580-c7d214e8f8e5"
      },
      "execution_count": 25,
      "outputs": [
        {
          "output_type": "execute_result",
          "data": {
            "text/plain": [
              "'imnamatotynhgongdolhvgvnsot'"
            ],
            "application/vnd.google.colaboratory.intrinsic+json": {
              "type": "string"
            }
          },
          "metadata": {},
          "execution_count": 25
        }
      ]
    },
    {
      "cell_type": "code",
      "source": [
        "s[0:8]"
      ],
      "metadata": {
        "colab": {
          "base_uri": "https://localhost:8080/",
          "height": 36
        },
        "id": "nLv4SCoCeM-a",
        "outputId": "ec040903-0a53-4e0c-9d86-6eb49698e642"
      },
      "execution_count": 27,
      "outputs": [
        {
          "output_type": "execute_result",
          "data": {
            "text/plain": [
              "'ifmanwas'"
            ],
            "application/vnd.google.colaboratory.intrinsic+json": {
              "type": "string"
            }
          },
          "metadata": {},
          "execution_count": 27
        }
      ]
    },
    {
      "cell_type": "code",
      "source": [
        "s[8:16]"
      ],
      "metadata": {
        "colab": {
          "base_uri": "https://localhost:8080/",
          "height": 36
        },
        "id": "Cd-pzNylfCdJ",
        "outputId": "b285dac1-0fd4-408c-d36f-9984538c7969"
      },
      "execution_count": 28,
      "outputs": [
        {
          "output_type": "execute_result",
          "data": {
            "text/plain": [
              "'meanttos'"
            ],
            "application/vnd.google.colaboratory.intrinsic+json": {
              "type": "string"
            }
          },
          "metadata": {},
          "execution_count": 28
        }
      ]
    },
    {
      "cell_type": "code",
      "source": [
        "s[16:24]"
      ],
      "metadata": {
        "colab": {
          "base_uri": "https://localhost:8080/",
          "height": 36
        },
        "id": "gbsb5Re0fI5B",
        "outputId": "5988cc6b-bee9-4ee6-b13c-767477ebcf8d"
      },
      "execution_count": 29,
      "outputs": [
        {
          "output_type": "execute_result",
          "data": {
            "text/plain": [
              "'tayonthe'"
            ],
            "application/vnd.google.colaboratory.intrinsic+json": {
              "type": "string"
            }
          },
          "metadata": {},
          "execution_count": 29
        }
      ]
    },
    {
      "cell_type": "code",
      "source": [
        "s[24:32]"
      ],
      "metadata": {
        "colab": {
          "base_uri": "https://localhost:8080/",
          "height": 36
        },
        "id": "PNcQhMkVfQAN",
        "outputId": "fd50b913-4624-4ce2-9c1c-1a6b2b4936ce"
      },
      "execution_count": 30,
      "outputs": [
        {
          "output_type": "execute_result",
          "data": {
            "text/plain": [
              "'groundgo'"
            ],
            "application/vnd.google.colaboratory.intrinsic+json": {
              "type": "string"
            }
          },
          "metadata": {},
          "execution_count": 30
        }
      ]
    },
    {
      "cell_type": "code",
      "source": [
        "s[32:40]"
      ],
      "metadata": {
        "colab": {
          "base_uri": "https://localhost:8080/",
          "height": 36
        },
        "id": "jCRRpIwffSR3",
        "outputId": "295b0354-750a-4a0f-88ca-01582591cead"
      },
      "execution_count": 31,
      "outputs": [
        {
          "output_type": "execute_result",
          "data": {
            "text/plain": [
              "'dwouldha'"
            ],
            "application/vnd.google.colaboratory.intrinsic+json": {
              "type": "string"
            }
          },
          "metadata": {},
          "execution_count": 31
        }
      ]
    },
    {
      "cell_type": "code",
      "source": [
        "s[40:48]"
      ],
      "metadata": {
        "colab": {
          "base_uri": "https://localhost:8080/",
          "height": 36
        },
        "id": "w2e8tE6EfUHr",
        "outputId": "b7fbb79e-8fc1-4908-8137-1e804b74878d"
      },
      "execution_count": 32,
      "outputs": [
        {
          "output_type": "execute_result",
          "data": {
            "text/plain": [
              "'vegivenu'"
            ],
            "application/vnd.google.colaboratory.intrinsic+json": {
              "type": "string"
            }
          },
          "metadata": {},
          "execution_count": 32
        }
      ]
    },
    {
      "cell_type": "code",
      "source": [
        "s[48:56]"
      ],
      "metadata": {
        "colab": {
          "base_uri": "https://localhost:8080/",
          "height": 36
        },
        "id": "HURWv0Q0fVm-",
        "outputId": "889907fe-0b9c-467b-b3d7-ab2a4e11fe05"
      },
      "execution_count": 33,
      "outputs": [
        {
          "output_type": "execute_result",
          "data": {
            "text/plain": [
              "'sroots'"
            ],
            "application/vnd.google.colaboratory.intrinsic+json": {
              "type": "string"
            }
          },
          "metadata": {},
          "execution_count": 33
        }
      ]
    },
    {
      "cell_type": "code",
      "source": [
        "matrix = []"
      ],
      "metadata": {
        "id": "J2M1nfahh4kg"
      },
      "execution_count": 38,
      "outputs": []
    },
    {
      "cell_type": "code",
      "source": [
        "for i in range(row):\n",
        "  sslice = list(s[8*i:8*(i+1)])\n",
        "  matrix.append(sslice)"
      ],
      "metadata": {
        "id": "zq5jHDJ9fY1f"
      },
      "execution_count": 40,
      "outputs": []
    },
    {
      "cell_type": "code",
      "source": [
        "print(matrix)"
      ],
      "metadata": {
        "colab": {
          "base_uri": "https://localhost:8080/"
        },
        "id": "XDM6S3SMhdfV",
        "outputId": "99f17ce3-a537-438d-b7cb-e27b46b7b64e"
      },
      "execution_count": 41,
      "outputs": [
        {
          "output_type": "stream",
          "name": "stdout",
          "text": [
            "[['i', 'f', 'm', 'a', 'n', 'w', 'a', 's'], ['m', 'e', 'a', 'n', 't', 't', 'o', 's'], ['t', 'a', 'y', 'o', 'n', 't', 'h', 'e'], ['g', 'r', 'o', 'u', 'n', 'd', 'g', 'o'], ['d', 'w', 'o', 'u', 'l', 'd', 'h', 'a'], ['v', 'e', 'g', 'i', 'v', 'e', 'n', 'u'], ['s', 'r', 'o', 'o', 't', 's']]\n"
          ]
        }
      ]
    },
    {
      "cell_type": "code",
      "source": [
        "'''\n",
        "\n",
        " [['i', 'f', 'm', 'a', 'n', 'w', 'a', 's'],\n",
        " ['m', 'e', 'a', 'n', 't', 't', 'o', 's'],\n",
        " ['t', 'a', 'y', 'o', 'n', 't', 'h', 'e'],\n",
        " ['g', 'r', 'o', 'u', 'n', 'd', 'g', 'o'],\n",
        " ['d', 'w', 'o', 'u', 'l', 'd', 'h', 'a'],\n",
        " ['v', 'e', 'g', 'i', 'v', 'e', 'n', 'u'],\n",
        " ['s', 'r', 'o', 'o', 't', 's',]]\n",
        "\n",
        " '''"
      ],
      "metadata": {
        "id": "DPKJVsFBgBMl"
      },
      "execution_count": null,
      "outputs": []
    },
    {
      "cell_type": "code",
      "source": [
        "'''\n",
        "try:\n",
        "  code\n",
        "except IndexError:\n",
        "  another code\n",
        "'''"
      ],
      "metadata": {
        "id": "YEle1oGAl6bN"
      },
      "execution_count": null,
      "outputs": []
    },
    {
      "cell_type": "code",
      "source": [
        "new_matrix = []\n",
        "\n",
        "for i ,e in enumerate(matrix):\n",
        "  try:\n",
        "    matrix\n",
        "    new_matrix.append(e[i])\n",
        "  except IndexError:\n",
        "    pass"
      ],
      "metadata": {
        "id": "QqHTxJ0Qkiix"
      },
      "execution_count": 46,
      "outputs": []
    },
    {
      "cell_type": "code",
      "source": [
        "print(new_matrix)"
      ],
      "metadata": {
        "colab": {
          "base_uri": "https://localhost:8080/"
        },
        "id": "VmoTB5QTm3H8",
        "outputId": "df285118-fcae-4678-8fd0-db4f5bbebe33"
      },
      "execution_count": 47,
      "outputs": [
        {
          "output_type": "stream",
          "name": "stdout",
          "text": [
            "['i', 'e', 'y', 'u', 'l', 'e']\n"
          ]
        }
      ]
    },
    {
      "cell_type": "code",
      "source": [
        "word1 = []\n",
        "word2 = []\n",
        "word3 = []\n",
        "word4 = []\n",
        "word5 = []\n",
        "word6 = []\n",
        "word7 = []\n",
        "word8 = []\n",
        "\n",
        "\n",
        "for i in range(len(matrix)):\n",
        "  try:\n",
        "    word1.append(matrix[i][0])\n",
        "    word2.append(matrix[i][1])\n",
        "    word3.append(matrix[i][2])\n",
        "    word4.append(matrix[i][3])\n",
        "    word5.append(matrix[i][4])\n",
        "    word6.append(matrix[i][5])\n",
        "    word7.append(matrix[i][6])\n",
        "    word8.append(matrix[i][7])\n",
        "  except IndexError:\n",
        "    pass"
      ],
      "metadata": {
        "id": "hREf3lAfixkZ"
      },
      "execution_count": 48,
      "outputs": []
    },
    {
      "cell_type": "code",
      "source": [
        "word1"
      ],
      "metadata": {
        "colab": {
          "base_uri": "https://localhost:8080/"
        },
        "id": "8wYhs-1-kIqr",
        "outputId": "6c989516-ad77-4b03-e461-21e9f988307f"
      },
      "execution_count": 53,
      "outputs": [
        {
          "output_type": "execute_result",
          "data": {
            "text/plain": [
              "['i', 'm', 't', 'g', 'd', 'v', 's']"
            ]
          },
          "metadata": {},
          "execution_count": 53
        }
      ]
    },
    {
      "cell_type": "code",
      "source": [
        "word1 = ''.join(word1)\n",
        "word2 = ''.join(word2)\n",
        "word3 = ''.join(word3)\n",
        "word4 = ''.join(word4)\n",
        "word5 = ''.join(word5)\n",
        "word6 = ''.join(word6)\n",
        "word7 = ''.join(word7)\n",
        "word8 = ''.join(word8)"
      ],
      "metadata": {
        "id": "aPNZjfubnwau"
      },
      "execution_count": 58,
      "outputs": []
    },
    {
      "cell_type": "code",
      "source": [
        "new_matrix = [word1, word2, word3, word4, word5, word6, word7, word8]\n",
        "print(new_matrix)"
      ],
      "metadata": {
        "colab": {
          "base_uri": "https://localhost:8080/"
        },
        "id": "S7aahShGn1HX",
        "outputId": "eb981cd2-33f1-46a7-b034-1bb9f3e8586c"
      },
      "execution_count": 63,
      "outputs": [
        {
          "output_type": "stream",
          "name": "stdout",
          "text": [
            "['imtgdvs', 'fearwer', 'mayoogo', 'anouuio', 'ntnnlvt', 'wttddes', 'aohghn', 'sseoau']\n"
          ]
        }
      ]
    },
    {
      "cell_type": "code",
      "source": [
        "encrypted = ' '.join(new_matrix)\n",
        "print(encrypted)"
      ],
      "metadata": {
        "colab": {
          "base_uri": "https://localhost:8080/"
        },
        "id": "6bygdMQuo72g",
        "outputId": "d7648197-7426-43e0-af90-e90e7cc69cf1"
      },
      "execution_count": 66,
      "outputs": [
        {
          "output_type": "stream",
          "name": "stdout",
          "text": [
            "imtgdvs fearwer mayoogo anouuio ntnnlvt wttddes aohghn sseoau\n"
          ]
        }
      ]
    },
    {
      "cell_type": "code",
      "source": [
        "print(text)\n",
        "print(encrypted)"
      ],
      "metadata": {
        "colab": {
          "base_uri": "https://localhost:8080/"
        },
        "id": "kMsnRoo_pdjW",
        "outputId": "85b2bf48-18b4-4663-dbaf-7cb380efec44"
      },
      "execution_count": 69,
      "outputs": [
        {
          "output_type": "stream",
          "name": "stdout",
          "text": [
            "if man was meant to stay on the ground god would have given us roots\n",
            "imtgdvs fearwer mayoogo anouuio ntnnlvt wttddes aohghn sseoau\n"
          ]
        }
      ]
    }
  ]
}