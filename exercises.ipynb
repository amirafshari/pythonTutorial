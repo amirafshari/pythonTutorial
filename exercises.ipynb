{
  "nbformat": 4,
  "nbformat_minor": 0,
  "metadata": {
    "colab": {
      "provenance": [],
      "authorship_tag": "ABX9TyMrrs4gk+G+Zi2XzH1GZUMy",
      "include_colab_link": true
    },
    "kernelspec": {
      "name": "python3",
      "display_name": "Python 3"
    },
    "language_info": {
      "name": "python"
    }
  },
  "cells": [
    {
      "cell_type": "markdown",
      "metadata": {
        "id": "view-in-github",
        "colab_type": "text"
      },
      "source": [
        "<a href=\"https://colab.research.google.com/github/amirafshari/pythonTutorial/blob/main/exercises.ipynb\" target=\"_parent\"><img src=\"https://colab.research.google.com/assets/colab-badge.svg\" alt=\"Open In Colab\"/></a>"
      ]
    },
    {
      "cell_type": "markdown",
      "source": [
        "# 2. Check if the first and last element of the list is the same\n",
        "```\n",
        "input: [1,2,3,4,5,1]\n",
        "output: True\n",
        "```"
      ],
      "metadata": {
        "id": "ndfrizdBRCFk"
      }
    },
    {
      "cell_type": "code",
      "source": [
        "l = [1,2,3,4,5,1]\n",
        "if l[0] == l[-1]:\n",
        "  print(True)"
      ],
      "metadata": {
        "id": "My8Yi7c8RHyl",
        "colab": {
          "base_uri": "https://localhost:8080/"
        },
        "outputId": "099a71a8-7916-498d-ea73-2a60bf8c58f0"
      },
      "execution_count": null,
      "outputs": [
        {
          "output_type": "stream",
          "name": "stdout",
          "text": [
            "True\n"
          ]
        }
      ]
    },
    {
      "cell_type": "markdown",
      "source": [
        "# 3. Display numbers divisible by 5 from a list\n",
        "```\n",
        "input: [7,8,9,10,12,15,21]\n",
        "output: [10, 15]\n",
        "```"
      ],
      "metadata": {
        "id": "g0L30KJvRUzX"
      }
    },
    {
      "cell_type": "code",
      "source": [
        "for e in l:\n",
        "  if e % 5 == 0:\n",
        "    print(e)"
      ],
      "metadata": {
        "id": "0Mh-ycJtRVvj",
        "colab": {
          "base_uri": "https://localhost:8080/"
        },
        "outputId": "8f2edbc5-dd8a-4ed4-8b7a-1418a450c88c"
      },
      "execution_count": null,
      "outputs": [
        {
          "output_type": "stream",
          "name": "stdout",
          "text": [
            "5\n"
          ]
        }
      ]
    },
    {
      "cell_type": "markdown",
      "source": [
        "# 4. Print the following pattern\n",
        "```\n",
        "1 \n",
        "2 2 \n",
        "3 3 3 \n",
        "4 4 4 4 \n",
        "5 5 5 5 5\n",
        "```"
      ],
      "metadata": {
        "id": "uU_NgqoPRgFv"
      }
    },
    {
      "cell_type": "code",
      "source": [
        "for i in range(1,6):\n",
        "  print(f'{i} '*i)"
      ],
      "metadata": {
        "id": "2Q9nDOSvRkfL",
        "colab": {
          "base_uri": "https://localhost:8080/"
        },
        "outputId": "416673f0-ffb8-4ff0-9861-6ed8bb30ccec"
      },
      "execution_count": 1,
      "outputs": [
        {
          "output_type": "stream",
          "name": "stdout",
          "text": [
            "1 \n",
            "2 2 \n",
            "3 3 3 \n",
            "4 4 4 4 \n",
            "5 5 5 5 5 \n"
          ]
        }
      ]
    },
    {
      "cell_type": "markdown",
      "source": [
        "# 5. Check Palindrome Input\n",
        "```\n",
        "input: 12321\n",
        "output: True\n",
        "\n",
        "input: hannah\n",
        "output: True\n",
        "```"
      ],
      "metadata": {
        "id": "rv8IVIAARoSo"
      }
    },
    {
      "cell_type": "code",
      "source": [
        "inp = input()\n",
        "\n",
        "var = list(inp)\n",
        "reverse = var[::-1]\n",
        "\n",
        "if var == reverse:\n",
        "  print(True)\n",
        "else:\n",
        "  print(False)"
      ],
      "metadata": {
        "id": "vr1095I7RpEZ",
        "colab": {
          "base_uri": "https://localhost:8080/"
        },
        "outputId": "9444ccc9-ec31-43fd-aff7-340bdcfe8332"
      },
      "execution_count": 8,
      "outputs": [
        {
          "output_type": "stream",
          "name": "stdout",
          "text": [
            "hannah\n",
            "True\n"
          ]
        }
      ]
    },
    {
      "cell_type": "markdown",
      "source": [
        "# 6. Create a new list from a two list using the following condition\n",
        "Given a two list of numbers, write a program to create a new list such that the new list should contain odd numbers from the first list and even numbers from the second list\n",
        "```\n",
        "input:\n",
        "[1,2,3,4]\n",
        "[5,6,7,8]\n",
        "output:\n",
        "[1,3,6,8]\n",
        "```"
      ],
      "metadata": {
        "id": "4rViUvDrRym6"
      }
    },
    {
      "cell_type": "code",
      "source": [
        "firstList = [1,2,3,4]\n",
        "secondList = [5,6,7,8]\n",
        "\n",
        "newList = []\n",
        "for i in firstList:\n",
        "  if not (i % 2 == 0):\n",
        "    newList.append(i)\n",
        "\n",
        "for j in secondList:\n",
        "  if j % 2 == 0:\n",
        "    newList.append(j)\n",
        "\n",
        "print(newList)"
      ],
      "metadata": {
        "colab": {
          "base_uri": "https://localhost:8080/"
        },
        "id": "5UYaeK1vRzfa",
        "outputId": "bd920549-807b-47f5-904e-ba9e506cdbdc"
      },
      "execution_count": 11,
      "outputs": [
        {
          "output_type": "stream",
          "name": "stdout",
          "text": [
            "[1, 3, 6, 8]\n"
          ]
        }
      ]
    },
    {
      "cell_type": "markdown",
      "source": [
        "# 8. Print list in reverse order using a loop\n",
        "```\n",
        "input:[1,2,3,4,5]\n",
        "output: [5,4,3,2,1]\n",
        "```"
      ],
      "metadata": {
        "id": "7Wn8-bdySrSO"
      }
    },
    {
      "cell_type": "code",
      "source": [
        "myList = [1,2,3,4,5]\n",
        "\n",
        "myList.reverse() # myList[::-1]\n",
        "\n",
        "print(myList)"
      ],
      "metadata": {
        "id": "qyiOtDFnSsL_",
        "colab": {
          "base_uri": "https://localhost:8080/"
        },
        "outputId": "21082bd5-9df3-4cb5-b0bd-71dea524f385"
      },
      "execution_count": 7,
      "outputs": [
        {
          "output_type": "stream",
          "name": "stdout",
          "text": [
            "[5, 4, 3, 2, 1]\n"
          ]
        }
      ]
    },
    {
      "cell_type": "markdown",
      "source": [
        "#  9. Display Fibonacci series up to 10 terms\n",
        "```\n",
        "1, 1, 2, 3, 5, 8, 13, 21, 34, 55\n",
        "```"
      ],
      "metadata": {
        "id": "4aY5JH80TBBF"
      }
    },
    {
      "cell_type": "code",
      "source": [
        "n = 10\n",
        "seq = [0,1]\n",
        "\n",
        "if n > 2:\n",
        "  for i in range(2,n-1):\n",
        "    next_element = seq[i-2] + seq[i-1]\n",
        "    seq.append(next_element)\n",
        "print(seq)\n"
      ],
      "metadata": {
        "id": "ut5SyvgDTCtF",
        "colab": {
          "base_uri": "https://localhost:8080/"
        },
        "outputId": "348e3f90-b24a-4c41-e320-a19e30be8fb6"
      },
      "execution_count": null,
      "outputs": [
        {
          "output_type": "stream",
          "name": "stdout",
          "text": [
            "[0, 1, 1, 2, 3, 5, 8, 13, 21]\n"
          ]
        }
      ]
    },
    {
      "cell_type": "markdown",
      "source": [
        "# 10. Write a program to display all prime numbers within a range\n",
        "```\n",
        "input: 15\n",
        "output: 2,3,5,7,11,13\n",
        "```"
      ],
      "metadata": {
        "id": "SngnNTC4TFlR"
      }
    },
    {
      "cell_type": "code",
      "source": [
        " l = list(range(15))\n",
        "\n",
        " for n in l:\n",
        "   for i in range(2, n-1):\n",
        "     if n % i == 0:\n",
        "       print(f'{n} is not prime!')\n",
        "       break"
      ],
      "metadata": {
        "colab": {
          "base_uri": "https://localhost:8080/"
        },
        "id": "o1aXO8hATGhc",
        "outputId": "48d6408d-c80d-49f4-df8e-167d0339e573"
      },
      "execution_count": null,
      "outputs": [
        {
          "output_type": "stream",
          "name": "stdout",
          "text": [
            "4 is not prime!\n",
            "6 is not prime!\n",
            "8 is not prime!\n",
            "9 is not prime!\n",
            "10 is not prime!\n",
            "12 is not prime!\n",
            "14 is not prime!\n"
          ]
        }
      ]
    },
    {
      "cell_type": "markdown",
      "source": [
        "# 11. Use a loop to display elements from a given list present at odd index positions\n",
        "```\n",
        "input: ['a', 'b', 'c', 'd', 'e', 'f', 'g', 'h']\n",
        "output: b d f h\n",
        "```"
      ],
      "metadata": {
        "id": "OZWyKzkKTO9d"
      }
    },
    {
      "cell_type": "code",
      "source": [
        "myList = ['a', 'b', 'c', 'd', 'e', 'f', 'g', 'h']\n",
        "\n",
        "output = []\n",
        "index = 0\n",
        "for e in myList:\n",
        "  if index % 2 == 0:\n",
        "    pass\n",
        "  else:\n",
        "    output.append(e)\n",
        "\n",
        "  index += 1\n",
        "\n",
        "print(output)"
      ],
      "metadata": {
        "id": "ZAK05QnwTP1D",
        "colab": {
          "base_uri": "https://localhost:8080/"
        },
        "outputId": "a1eb1c19-f66d-4d4e-c6dc-308edff15333"
      },
      "execution_count": 6,
      "outputs": [
        {
          "output_type": "stream",
          "name": "stdout",
          "text": [
            "['b', 'd', 'f', 'h']\n"
          ]
        }
      ]
    },
    {
      "cell_type": "markdown",
      "source": [
        "# 12. Calculate the cube of all numbers from 1 to a given number\n",
        "```\n",
        "input: 4\n",
        "output: 1,8,27,64\n",
        "```"
      ],
      "metadata": {
        "id": "gTlBBxy5TVev"
      }
    },
    {
      "cell_type": "code",
      "source": [
        "n = 4\n",
        "\n",
        "for i in range(1,n+1):\n",
        "  print(i**3)"
      ],
      "metadata": {
        "id": "MNWkCOhVTWYb",
        "colab": {
          "base_uri": "https://localhost:8080/"
        },
        "outputId": "098d7f53-36fd-4aae-a525-804c4390cb17"
      },
      "execution_count": 5,
      "outputs": [
        {
          "output_type": "stream",
          "name": "stdout",
          "text": [
            "1\n",
            "8\n",
            "27\n",
            "64\n"
          ]
        }
      ]
    },
    {
      "cell_type": "markdown",
      "source": [
        "# 13. Turn every item of a list into its square\n",
        "```\n",
        "input: [1,2,3,4,5,6]\n",
        "output: [1,4,9,16,25,36]\n",
        "```"
      ],
      "metadata": {
        "id": "iCSKwxijTuvU"
      }
    },
    {
      "cell_type": "code",
      "source": [
        "myList = [1,2,3,4,5,6]\n",
        "\n",
        "square = []\n",
        "for e in myList:\n",
        "  square.append(e**2)\n",
        "\n",
        "print(square)"
      ],
      "metadata": {
        "id": "bqFewbsBTvpS",
        "colab": {
          "base_uri": "https://localhost:8080/"
        },
        "outputId": "d4b1d4ce-d7f4-48ee-b338-9cb5d242473c"
      },
      "execution_count": 4,
      "outputs": [
        {
          "output_type": "stream",
          "name": "stdout",
          "text": [
            "[1, 4, 9, 16, 25, 36]\n"
          ]
        }
      ]
    },
    {
      "cell_type": "markdown",
      "source": [
        "# 14. Python program to interchange first and last elements in a list\n",
        "```\n",
        "Input : [12, 35, 9, 56, 24]\n",
        "Output : [24, 35, 9, 56, 12]\n",
        "\n",
        "Input : [1, 2, 3]\n",
        "Output : [3, 2, 1]\n",
        "```"
      ],
      "metadata": {
        "id": "oc4wD7yGUVNU"
      }
    },
    {
      "cell_type": "code",
      "source": [
        "myList = [12, 35, 9, 56, 24]\n",
        "\n",
        "first_element = myList[0]\n",
        "last_element = myList[-1]\n",
        "\n",
        "myList[0] = last_element\n",
        "myList[-1] = first_element\n",
        "\n",
        "print(myList)"
      ],
      "metadata": {
        "id": "PJyvwUewUqTN",
        "colab": {
          "base_uri": "https://localhost:8080/"
        },
        "outputId": "00521f13-c1c4-47f2-f024-d1bed12117ec"
      },
      "execution_count": 10,
      "outputs": [
        {
          "output_type": "stream",
          "name": "stdout",
          "text": [
            "[24, 35, 9, 56, 12]\n",
            "[24, 35, 9, 56, 12]\n"
          ]
        }
      ]
    },
    {
      "cell_type": "markdown",
      "source": [
        "# 15. find length of list\n",
        "```\n",
        "input: ['a', 'b', 'c']\n",
        "output: 3\n",
        "```"
      ],
      "metadata": {
        "id": "JVf4o4o8Upmp"
      }
    },
    {
      "cell_type": "code",
      "source": [
        "myList = ['a', 'b', 'c']\n",
        "\n",
        "i = 0\n",
        "for e in myList:\n",
        "  i += 1\n",
        "\n",
        "print('Length: ', i)"
      ],
      "metadata": {
        "id": "aUEANyd0UV_4",
        "colab": {
          "base_uri": "https://localhost:8080/"
        },
        "outputId": "1b4d76b8-c176-4b74-d06d-23660b96148e"
      },
      "execution_count": 2,
      "outputs": [
        {
          "output_type": "stream",
          "name": "stdout",
          "text": [
            "Length:  3\n"
          ]
        }
      ]
    }
  ]
}