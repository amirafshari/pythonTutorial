{
  "nbformat": 4,
  "nbformat_minor": 0,
  "metadata": {
    "colab": {
      "provenance": [],
      "authorship_tag": "ABX9TyMuYwy3jDscmuMQtbbjSX42",
      "include_colab_link": true
    },
    "kernelspec": {
      "name": "python3",
      "display_name": "Python 3"
    },
    "language_info": {
      "name": "python"
    }
  },
  "cells": [
    {
      "cell_type": "markdown",
      "metadata": {
        "id": "view-in-github",
        "colab_type": "text"
      },
      "source": [
        "<a href=\"https://colab.research.google.com/github/amirafshari/pythonTutorial/blob/main/exercises.ipynb\" target=\"_parent\"><img src=\"https://colab.research.google.com/assets/colab-badge.svg\" alt=\"Open In Colab\"/></a>"
      ]
    },
    {
      "cell_type": "markdown",
      "source": [
        "# 1. Multipication Table with for loops\n",
        "```\n",
        "1  2 3 4 5 6 7 8 9 10 \t\t\n",
        "2  4 6 8 10 12 14 16 18 20 \t\t\n",
        "3  6 9 12 15 18 21 24 27 30 \t\t\n",
        "4  8 12 16 20 24 28 32 36 40 \t\t\n",
        "5  10 15 20 25 30 35 40 45 50 \t\t\n",
        "6  12 18 24 30 36 42 48 54 60 \t\t\n",
        "7  14 21 28 35 42 49 56 63 70 \t\t\n",
        "8  16 24 32 40 48 56 64 72 80 \t\t\n",
        "9  18 27 36 45 54 63 72 81 90 \t\t\n",
        "10 20 30 40 50 60 70 80 90 100 \n",
        "```"
      ],
      "metadata": {
        "id": "nou3oKBMQkiw"
      }
    },
    {
      "cell_type": "code",
      "execution_count": null,
      "metadata": {
        "id": "3Rlpl09CQQ8V"
      },
      "outputs": [],
      "source": []
    },
    {
      "cell_type": "markdown",
      "source": [
        "# 2. Check if the first and last element of the list is the same\n",
        "```\n",
        "input: [1,2,3,4,5,1]\n",
        "output: True\n",
        "```"
      ],
      "metadata": {
        "id": "ndfrizdBRCFk"
      }
    },
    {
      "cell_type": "code",
      "source": [
        "l = [1,2,3,4,5,1]\n",
        "if l[0] == l[-1]:\n",
        "  print(True)"
      ],
      "metadata": {
        "id": "My8Yi7c8RHyl",
        "colab": {
          "base_uri": "https://localhost:8080/"
        },
        "outputId": "099a71a8-7916-498d-ea73-2a60bf8c58f0"
      },
      "execution_count": 1,
      "outputs": [
        {
          "output_type": "stream",
          "name": "stdout",
          "text": [
            "True\n"
          ]
        }
      ]
    },
    {
      "cell_type": "markdown",
      "source": [
        "# 3. Display numbers divisible by 5 from a list\n",
        "```\n",
        "input: [7,8,9,10,12,15,21]\n",
        "output: [10, 15]\n",
        "```"
      ],
      "metadata": {
        "id": "g0L30KJvRUzX"
      }
    },
    {
      "cell_type": "code",
      "source": [
        "for e in l:\n",
        "  if e % 5 == 0:\n",
        "    print(e)"
      ],
      "metadata": {
        "id": "0Mh-ycJtRVvj",
        "colab": {
          "base_uri": "https://localhost:8080/"
        },
        "outputId": "8f2edbc5-dd8a-4ed4-8b7a-1418a450c88c"
      },
      "execution_count": 2,
      "outputs": [
        {
          "output_type": "stream",
          "name": "stdout",
          "text": [
            "5\n"
          ]
        }
      ]
    },
    {
      "cell_type": "markdown",
      "source": [
        "# 4. Print the following pattern\n",
        "```\n",
        "1 \n",
        "2 2 \n",
        "3 3 3 \n",
        "4 4 4 4 \n",
        "5 5 5 5 5\n",
        "```"
      ],
      "metadata": {
        "id": "uU_NgqoPRgFv"
      }
    },
    {
      "cell_type": "code",
      "source": [],
      "metadata": {
        "id": "2Q9nDOSvRkfL"
      },
      "execution_count": null,
      "outputs": []
    },
    {
      "cell_type": "markdown",
      "source": [
        "# 5. Check Palindrome Number\n",
        "```\n",
        "input: 12321\n",
        "output: True\n",
        "```"
      ],
      "metadata": {
        "id": "rv8IVIAARoSo"
      }
    },
    {
      "cell_type": "code",
      "source": [],
      "metadata": {
        "id": "vr1095I7RpEZ"
      },
      "execution_count": null,
      "outputs": []
    },
    {
      "cell_type": "markdown",
      "source": [
        "# 6. Create a new list from a two list using the following condition\n",
        "Given a two list of numbers, write a program to create a new list such that the new list should contain odd numbers from the first list and even numbers from the second list\n",
        "```\n",
        "input:\n",
        "[1,2,3,4]\n",
        "[5,6,7,8]\n",
        "output:\n",
        "[1,3,6,8]\n",
        "```"
      ],
      "metadata": {
        "id": "4rViUvDrRym6"
      }
    },
    {
      "cell_type": "code",
      "source": [],
      "metadata": {
        "colab": {
          "base_uri": "https://localhost:8080/"
        },
        "id": "5UYaeK1vRzfa",
        "outputId": "a522ba66-0d43-4fad-9eb9-2d9c4484accb"
      },
      "execution_count": null,
      "outputs": [
        {
          "output_type": "execute_result",
          "data": {
            "text/plain": [
              "[1]"
            ]
          },
          "metadata": {},
          "execution_count": 2
        }
      ]
    },
    {
      "cell_type": "markdown",
      "source": [
        "# 7. Write a Program to extract each digit from an integer in the reverse order.\n",
        "For example, If the given int is 7536, the output shall be “6 3 5 7“, with a space separating the digits.\n",
        "```\n",
        "input:\n",
        "12345\n",
        "output:\n",
        "54321\n",
        "```"
      ],
      "metadata": {
        "id": "PWF3zHYPR71D"
      }
    },
    {
      "cell_type": "code",
      "source": [],
      "metadata": {
        "id": "B7UNRKNpR-1I"
      },
      "execution_count": null,
      "outputs": []
    },
    {
      "cell_type": "markdown",
      "source": [
        "# 8. Print list in reverse order using a loop\n",
        "```\n",
        "input:[1,2,3,4,5]\n",
        "output: [5,4,3,2,1]\n",
        "```"
      ],
      "metadata": {
        "id": "7Wn8-bdySrSO"
      }
    },
    {
      "cell_type": "code",
      "source": [],
      "metadata": {
        "id": "qyiOtDFnSsL_"
      },
      "execution_count": null,
      "outputs": []
    },
    {
      "cell_type": "markdown",
      "source": [
        "#  9. Display Fibonacci series up to 10 terms\n",
        "```\n",
        "1, 1, 2, 3, 5, 8, 13, 21, 34, 55\n",
        "```"
      ],
      "metadata": {
        "id": "4aY5JH80TBBF"
      }
    },
    {
      "cell_type": "code",
      "source": [
        "n = 10\n",
        "seq = [0,1]\n",
        "\n",
        "if n > 2:\n",
        "  for i in range(2,n-1):\n",
        "    next_element = seq[i-2] + seq[i-1]\n",
        "    seq.append(next_element)\n",
        "print(seq)\n"
      ],
      "metadata": {
        "id": "ut5SyvgDTCtF",
        "colab": {
          "base_uri": "https://localhost:8080/"
        },
        "outputId": "348e3f90-b24a-4c41-e320-a19e30be8fb6"
      },
      "execution_count": 4,
      "outputs": [
        {
          "output_type": "stream",
          "name": "stdout",
          "text": [
            "[0, 1, 1, 2, 3, 5, 8, 13, 21]\n"
          ]
        }
      ]
    },
    {
      "cell_type": "markdown",
      "source": [
        "# 10. Write a program to display all prime numbers within a range\n",
        "```\n",
        "input: 15\n",
        "output: 2,3,5,7,11,13\n",
        "```"
      ],
      "metadata": {
        "id": "SngnNTC4TFlR"
      }
    },
    {
      "cell_type": "code",
      "source": [
        " l = list(range(15))\n",
        "\n",
        " for n in l:\n",
        "   for i in range(2, n-1):\n",
        "     if n % i == 0:\n",
        "       print(f'{n} is not prime!')\n",
        "       break"
      ],
      "metadata": {
        "colab": {
          "base_uri": "https://localhost:8080/"
        },
        "id": "o1aXO8hATGhc",
        "outputId": "48d6408d-c80d-49f4-df8e-167d0339e573"
      },
      "execution_count": 5,
      "outputs": [
        {
          "output_type": "stream",
          "name": "stdout",
          "text": [
            "4 is not prime!\n",
            "6 is not prime!\n",
            "8 is not prime!\n",
            "9 is not prime!\n",
            "10 is not prime!\n",
            "12 is not prime!\n",
            "14 is not prime!\n"
          ]
        }
      ]
    },
    {
      "cell_type": "markdown",
      "source": [
        "# 11. Use a loop to display elements from a given list present at odd index positions\n",
        "```\n",
        "input: ['a', 'b', 'c', 'd', 'e', 'f', 'g', 'h']\n",
        "output: b d f h\n",
        "```"
      ],
      "metadata": {
        "id": "OZWyKzkKTO9d"
      }
    },
    {
      "cell_type": "code",
      "source": [],
      "metadata": {
        "id": "ZAK05QnwTP1D"
      },
      "execution_count": null,
      "outputs": []
    },
    {
      "cell_type": "markdown",
      "source": [
        "# 12. Calculate the cube of all numbers from 1 to a given number\n",
        "```\n",
        "input: 4\n",
        "output: 1,8,27,64\n",
        "```"
      ],
      "metadata": {
        "id": "gTlBBxy5TVev"
      }
    },
    {
      "cell_type": "code",
      "source": [],
      "metadata": {
        "id": "MNWkCOhVTWYb"
      },
      "execution_count": null,
      "outputs": []
    },
    {
      "cell_type": "markdown",
      "source": [
        "# 13. Turn every item of a list into its square\n",
        "```\n",
        "input: [1,2,3,4,5,6]\n",
        "output: [1,4,9,14,25,36]\n",
        "```"
      ],
      "metadata": {
        "id": "iCSKwxijTuvU"
      }
    },
    {
      "cell_type": "code",
      "source": [],
      "metadata": {
        "id": "bqFewbsBTvpS"
      },
      "execution_count": null,
      "outputs": []
    },
    {
      "cell_type": "markdown",
      "source": [
        "# 14. Python program to interchange first and last elements in a list\n",
        "```\n",
        "Input : [12, 35, 9, 56, 24]\n",
        "Output : [24, 35, 9, 56, 12]\n",
        "\n",
        "Input : [1, 2, 3]\n",
        "Output : [3, 2, 1]\n",
        "```"
      ],
      "metadata": {
        "id": "oc4wD7yGUVNU"
      }
    },
    {
      "cell_type": "code",
      "source": [],
      "metadata": {
        "id": "PJyvwUewUqTN"
      },
      "execution_count": null,
      "outputs": []
    },
    {
      "cell_type": "markdown",
      "source": [
        "# 15. find length of list\n",
        "```\n",
        "input: ['a', 'b', 'c']\n",
        "output: 3\n",
        "```"
      ],
      "metadata": {
        "id": "JVf4o4o8Upmp"
      }
    },
    {
      "cell_type": "code",
      "source": [],
      "metadata": {
        "id": "aUEANyd0UV_4"
      },
      "execution_count": null,
      "outputs": []
    }
  ]
}