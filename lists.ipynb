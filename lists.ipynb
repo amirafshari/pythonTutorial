{
  "nbformat": 4,
  "nbformat_minor": 0,
  "metadata": {
    "colab": {
      "provenance": [],
      "authorship_tag": "ABX9TyMpoNSaPwVhSzXqCDQ5APeA",
      "include_colab_link": true
    },
    "kernelspec": {
      "name": "python3",
      "display_name": "Python 3"
    },
    "language_info": {
      "name": "python"
    }
  },
  "cells": [
    {
      "cell_type": "markdown",
      "metadata": {
        "id": "view-in-github",
        "colab_type": "text"
      },
      "source": [
        "<a href=\"https://colab.research.google.com/github/amirafshari/pythonTutorial/blob/main/lists.ipynb\" target=\"_parent\"><img src=\"https://colab.research.google.com/assets/colab-badge.svg\" alt=\"Open In Colab\"/></a>"
      ]
    },
    {
      "cell_type": "markdown",
      "source": [
        "# Define a list"
      ],
      "metadata": {
        "id": "zRw5My8CfU_j"
      }
    },
    {
      "cell_type": "code",
      "execution_count": null,
      "metadata": {
        "id": "CeE9V8Zue2Wx"
      },
      "outputs": [],
      "source": [
        "emptyList = []\n",
        "\n",
        "myList = [1,2,3,4,5]\n",
        "\n",
        "myList1 = ['a', 'b', 'c', 'd']\n",
        "\n",
        "myList2 = [1, 'a', 'f', 43, 21, 'John', ['a list'], (1,2)]"
      ]
    },
    {
      "cell_type": "code",
      "source": [
        "iList = list(range(22))\n",
        "print(iList)"
      ],
      "metadata": {
        "id": "IY7pEHOqkv8I"
      },
      "execution_count": null,
      "outputs": []
    },
    {
      "cell_type": "markdown",
      "source": [
        "### List Comprehensions\n",
        "```\n",
        "[i for i in range() if condition]\n",
        "```\n"
      ],
      "metadata": {
        "id": "ieUCf_dMkx5k"
      }
    },
    {
      "cell_type": "code",
      "source": [
        "myList = [i for i in range(1,50)]\n",
        "print(myList)"
      ],
      "metadata": {
        "colab": {
          "base_uri": "https://localhost:8080/"
        },
        "id": "Wu3CfZWQkxCR",
        "outputId": "c247ac1b-ef84-4b86-cd42-bcacc478e348"
      },
      "execution_count": null,
      "outputs": [
        {
          "output_type": "stream",
          "name": "stdout",
          "text": [
            "[1, 2, 3, 4, 5, 6, 7, 8, 9, 10, 11, 12, 13, 14, 15, 16, 17, 18, 19, 20, 21, 22, 23, 24, 25, 26, 27, 28, 29, 30, 31, 32, 33, 34, 35, 36, 37, 38, 39, 40, 41, 42, 43, 44, 45, 46, 47, 48, 49]\n"
          ]
        }
      ]
    },
    {
      "cell_type": "code",
      "source": [
        "myList = [i/3 for i in range(100) if i % 6 == 0]\n",
        "print(myList)"
      ],
      "metadata": {
        "colab": {
          "base_uri": "https://localhost:8080/"
        },
        "id": "em9YZj4fnRIX",
        "outputId": "eeffb218-96a3-4ede-bbce-58d1ae6e4edb"
      },
      "execution_count": null,
      "outputs": [
        {
          "output_type": "stream",
          "name": "stdout",
          "text": [
            "[0.0, 2.0, 4.0, 6.0, 8.0, 10.0, 12.0, 14.0, 16.0, 18.0, 20.0, 22.0, 24.0, 26.0, 28.0, 30.0, 32.0]\n"
          ]
        }
      ]
    },
    {
      "cell_type": "markdown",
      "source": [],
      "metadata": {
        "id": "XkaDOeGXoFCe"
      }
    },
    {
      "cell_type": "markdown",
      "source": [
        "# Accessing elements of a list\n",
        "**In Computer Science We alway count from 0**"
      ],
      "metadata": {
        "id": "TsnOGhHRgXiV"
      }
    },
    {
      "cell_type": "markdown",
      "source": [
        "### Selcting"
      ],
      "metadata": {
        "id": "k2Fhgfoxjsu-"
      }
    },
    {
      "cell_type": "code",
      "source": [
        "myList = ['a', 'b', 'c', 'd', 'e']\n",
        "\n",
        "print(myList[0])\n",
        "print(myList[-1])\n",
        "print(myList[-2])"
      ],
      "metadata": {
        "id": "9lsY1b5sgZ2P",
        "colab": {
          "base_uri": "https://localhost:8080/"
        },
        "outputId": "251cda44-a1fe-4d2c-976b-628644e73566"
      },
      "execution_count": null,
      "outputs": [
        {
          "output_type": "stream",
          "name": "stdout",
          "text": [
            "a\n",
            "e\n",
            "d\n"
          ]
        }
      ]
    },
    {
      "cell_type": "markdown",
      "source": [
        "### Slicing\n",
        "\n",
        "```\n",
        "list[start:end:step]\n",
        "```"
      ],
      "metadata": {
        "id": "nIUKHcZgjvjL"
      }
    },
    {
      "cell_type": "code",
      "source": [
        "myList = list(range(1,50,2))\n",
        "print(myList)"
      ],
      "metadata": {
        "colab": {
          "base_uri": "https://localhost:8080/"
        },
        "id": "1z4HvgN2jxkv",
        "outputId": "0123156d-fecb-4a36-f82e-b9e049b3fc2f"
      },
      "execution_count": null,
      "outputs": [
        {
          "output_type": "stream",
          "name": "stdout",
          "text": [
            "[1, 3, 5, 7, 9, 11, 13, 15, 17, 19, 21, 23, 25, 27, 29, 31, 33, 35, 37, 39, 41, 43, 45, 47, 49]\n"
          ]
        }
      ]
    },
    {
      "cell_type": "code",
      "source": [
        "print(myList[:10:1])"
      ],
      "metadata": {
        "colab": {
          "base_uri": "https://localhost:8080/"
        },
        "id": "bRBAJV8tj_dk",
        "outputId": "0a9da4e2-1c23-4ad7-b8fd-2e2b03dedb94"
      },
      "execution_count": null,
      "outputs": [
        {
          "output_type": "stream",
          "name": "stdout",
          "text": [
            "[1, 3, 5, 7, 9, 11, 13, 15, 17, 19]\n"
          ]
        }
      ]
    },
    {
      "cell_type": "code",
      "source": [
        "print(myList[::10])"
      ],
      "metadata": {
        "colab": {
          "base_uri": "https://localhost:8080/"
        },
        "id": "Ui3g5uZjkNJc",
        "outputId": "bcb89286-68fd-415e-95d3-f13f75f72393"
      },
      "execution_count": null,
      "outputs": [
        {
          "output_type": "stream",
          "name": "stdout",
          "text": [
            "[1, 21, 41]\n"
          ]
        }
      ]
    },
    {
      "cell_type": "markdown",
      "source": [
        "# List Methods"
      ],
      "metadata": {
        "id": "dRpqWykLhik5"
      }
    },
    {
      "cell_type": "markdown",
      "source": [
        "### reverse()"
      ],
      "metadata": {
        "id": "4_xh2M9_f4tV"
      }
    },
    {
      "cell_type": "code",
      "source": [
        "myList.reverse()\n",
        "print(myList)"
      ],
      "metadata": {
        "id": "X6MDdBHvhjsu",
        "colab": {
          "base_uri": "https://localhost:8080/"
        },
        "outputId": "9405edf8-cb55-4790-82df-111d71656e44"
      },
      "execution_count": null,
      "outputs": [
        {
          "output_type": "stream",
          "name": "stdout",
          "text": [
            "['e', 'd', 'c', 'b', 'a']\n"
          ]
        }
      ]
    },
    {
      "cell_type": "markdown",
      "source": [
        "### append()"
      ],
      "metadata": {
        "id": "3hStNEFvf6yl"
      }
    },
    {
      "cell_type": "code",
      "source": [
        "emptyList = []\n",
        "\n",
        "emptyList.append('new element')\n",
        "\n",
        "print(emptyList)"
      ],
      "metadata": {
        "colab": {
          "base_uri": "https://localhost:8080/"
        },
        "id": "CrQwzreqe0qT",
        "outputId": "2a1d1183-5b43-4776-c6b8-50de540b332a"
      },
      "execution_count": null,
      "outputs": [
        {
          "output_type": "stream",
          "name": "stdout",
          "text": [
            "['new element']\n"
          ]
        }
      ]
    },
    {
      "cell_type": "markdown",
      "source": [
        "### index()"
      ],
      "metadata": {
        "id": "mkfbTj1sf7zN"
      }
    },
    {
      "cell_type": "code",
      "source": [
        "myList = [10, 15, 20, 25]\n",
        "\n",
        "print(myList.index(25))"
      ],
      "metadata": {
        "id": "UgJmtA8GgTvN"
      },
      "execution_count": null,
      "outputs": []
    },
    {
      "cell_type": "markdown",
      "source": [
        "### insert()"
      ],
      "metadata": {
        "id": "WI_nEMCug6YB"
      }
    },
    {
      "cell_type": "code",
      "source": [
        "myList = ['apple', 'bannana', 'orange', 'fruit']\n",
        "\n",
        "myList.insert(1, 'cherry')\n",
        "\n",
        "print(myList)"
      ],
      "metadata": {
        "colab": {
          "base_uri": "https://localhost:8080/"
        },
        "id": "yo4ZyAibg2Is",
        "outputId": "758b4f39-a232-4191-9b08-70ae2e6be3b8"
      },
      "execution_count": null,
      "outputs": [
        {
          "output_type": "stream",
          "name": "stdout",
          "text": [
            "['apple', 'cherry', 'bannana', 'orange', 'fruit']\n"
          ]
        }
      ]
    },
    {
      "cell_type": "markdown",
      "source": [
        "### pop()\n",
        "**Removes items by index**"
      ],
      "metadata": {
        "id": "0VZWf9_4h2gD"
      }
    },
    {
      "cell_type": "code",
      "source": [
        "myList = ['apple', 'bannana', 'orange', 'fruit']\n",
        "\n",
        "myList.pop(-1)\n",
        "\n",
        "print(myList)"
      ],
      "metadata": {
        "colab": {
          "base_uri": "https://localhost:8080/"
        },
        "id": "P9RI0vfShUgk",
        "outputId": "a3443b3f-03c6-4a49-962f-509c6c8a77f3"
      },
      "execution_count": null,
      "outputs": [
        {
          "output_type": "stream",
          "name": "stdout",
          "text": [
            "['apple', 'bannana', 'orange']\n"
          ]
        }
      ]
    },
    {
      "cell_type": "markdown",
      "source": [
        "### remove()\n",
        "**Removes items by item**"
      ],
      "metadata": {
        "id": "101-6PwCiSEH"
      }
    },
    {
      "cell_type": "code",
      "source": [
        "myList = ['Tehran', 'Berlin', 'London', 'NY']\n",
        "\n",
        "myList.remove('Berlin')\n",
        "\n",
        "print(myList)"
      ],
      "metadata": {
        "colab": {
          "base_uri": "https://localhost:8080/"
        },
        "id": "pW2JrCG4h_Lm",
        "outputId": "4e273b7b-078e-4d72-9c7b-29513c1522bc"
      },
      "execution_count": null,
      "outputs": [
        {
          "output_type": "stream",
          "name": "stdout",
          "text": [
            "['Tehran', 'London', 'NY']\n"
          ]
        }
      ]
    },
    {
      "cell_type": "code",
      "source": [],
      "metadata": {
        "id": "BZwyIHAVioLn"
      },
      "execution_count": null,
      "outputs": []
    }
  ]
}